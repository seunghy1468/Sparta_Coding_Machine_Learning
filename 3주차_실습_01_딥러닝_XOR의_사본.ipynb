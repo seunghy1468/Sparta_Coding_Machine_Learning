{
  "nbformat": 4,
  "nbformat_minor": 0,
  "metadata": {
    "colab": {
      "name": "3주차 실습 - 01. 딥러닝 XOR의 사본",
      "provenance": [],
      "collapsed_sections": [],
      "include_colab_link": true
    },
    "kernelspec": {
      "name": "python3",
      "display_name": "Python 3"
    }
  },
  "cells": [
    {
      "cell_type": "markdown",
      "metadata": {
        "id": "view-in-github",
        "colab_type": "text"
      },
      "source": [
        "<a href=\"https://colab.research.google.com/github/seunghy1468/Sparta_Coding_Machine_Learning/blob/main/3%EC%A3%BC%EC%B0%A8_%EC%8B%A4%EC%8A%B5_01_%EB%94%A5%EB%9F%AC%EB%8B%9D_XOR%EC%9D%98_%EC%82%AC%EB%B3%B8.ipynb\" target=\"_parent\"><img src=\"https://colab.research.google.com/assets/colab-badge.svg\" alt=\"Open In Colab\"/></a>"
      ]
    },
    {
      "cell_type": "code",
      "metadata": {
        "id": "cGl7tV6zYlP2"
      },
      "source": [
        "import numpy as np\n",
        "from tensorflow.keras.models import Sequential\n",
        "from tensorflow.keras.layers import Dense\n",
        "from tensorflow.keras.optimizers import Adam, SGD"
      ],
      "execution_count": 1,
      "outputs": []
    },
    {
      "cell_type": "markdown",
      "metadata": {
        "id": "IOZ3kGcNY8hP"
      },
      "source": [
        "# XOR 데이터셋\n",
        "\n",
        "![](https://i.imgur.com/llFchxI.png)"
      ]
    },
    {
      "cell_type": "code",
      "metadata": {
        "id": "WiXA_GyPY8Ea"
      },
      "source": [
        "x_data = np.array([[0, 0], [0, 1], [1, 0], [1, 1]], dtype=np.float32)\n",
        "y_data = np.array([[0], [1], [1], [0]], dtype=np.float32)"
      ],
      "execution_count": 2,
      "outputs": []
    },
    {
      "cell_type": "markdown",
      "metadata": {
        "id": "lLPGg54nYs86"
      },
      "source": [
        "# XOR 이진 논리 회귀"
      ]
    },
    {
      "cell_type": "code",
      "metadata": {
        "colab": {
          "base_uri": "https://localhost:8080/"
        },
        "id": "oqpq8Z9UW5z7",
        "outputId": "03d7e690-e221-4ea8-eb09-a9e7554978d4"
      },
      "source": [
        "# 이진논리회귀로는 풀리지 않는다\n",
        "# 실제로 볼 것임\n",
        "model = Sequential([\n",
        "  Dense(1, activation='sigmoid')\n",
        "])\n",
        "\n",
        "model.compile(loss='binary_crossentropy', optimizer=SGD(lr=0.1))\n",
        "\n",
        "# verbose=0 : 출력하지마라 (출력 1000개가 너무 많아서)\n",
        "model.fit(x_data, y_data, epochs=1000, verbose=0)"
      ],
      "execution_count": 3,
      "outputs": [
        {
          "output_type": "stream",
          "text": [
            "/usr/local/lib/python3.7/dist-packages/tensorflow/python/keras/optimizer_v2/optimizer_v2.py:375: UserWarning: The `lr` argument is deprecated, use `learning_rate` instead.\n",
            "  \"The `lr` argument is deprecated, use `learning_rate` instead.\")\n"
          ],
          "name": "stderr"
        },
        {
          "output_type": "execute_result",
          "data": {
            "text/plain": [
              "<tensorflow.python.keras.callbacks.History at 0x7fdd7ec38d90>"
            ]
          },
          "metadata": {
            "tags": []
          },
          "execution_count": 3
        }
      ]
    },
    {
      "cell_type": "code",
      "metadata": {
        "colab": {
          "base_uri": "https://localhost:8080/"
        },
        "id": "atwdM_sYXhJS",
        "outputId": "482ba67a-9b67-456f-d810-ba6ebd7c9ec4"
      },
      "source": [
        "y_pred = model.predict(x_data)\n",
        "\n",
        "# 거의 0.5에 가까운 값이 나왔다.\n",
        "# 즉, 실패\n",
        "print(y_pred)"
      ],
      "execution_count": 4,
      "outputs": [
        {
          "output_type": "stream",
          "text": [
            "[[0.49650922]\n",
            " [0.49964508]\n",
            " [0.49925926]\n",
            " [0.50239515]]\n"
          ],
          "name": "stdout"
        }
      ]
    },
    {
      "cell_type": "markdown",
      "metadata": {
        "id": "cI6To7CYYwcV"
      },
      "source": [
        "# XOR 딥러닝(MLP)"
      ]
    },
    {
      "cell_type": "code",
      "metadata": {
        "colab": {
          "base_uri": "https://localhost:8080/"
        },
        "id": "m7K9HNdkXuQS",
        "outputId": "d4d05cb0-1fd2-450f-ff06-3b789a84e7af"
      },
      "source": [
        "model = Sequential([\n",
        "                    # hidden layer 지정 - 8개의 layer\n",
        "                    # ReLU 이용\n",
        "  Dense(8, activation='relu'),\n",
        "  # 출력은 하나짜리로\n",
        "  Dense(1, activation='sigmoid'),\n",
        "])\n",
        "\n",
        "model.compile(loss='binary_crossentropy', optimizer=SGD(lr=0.1))\n",
        "\n",
        "model.fit(x_data, y_data, epochs=1000, verbose=0)"
      ],
      "execution_count": 5,
      "outputs": [
        {
          "output_type": "stream",
          "text": [
            "/usr/local/lib/python3.7/dist-packages/tensorflow/python/keras/optimizer_v2/optimizer_v2.py:375: UserWarning: The `lr` argument is deprecated, use `learning_rate` instead.\n",
            "  \"The `lr` argument is deprecated, use `learning_rate` instead.\")\n"
          ],
          "name": "stderr"
        },
        {
          "output_type": "execute_result",
          "data": {
            "text/plain": [
              "<tensorflow.python.keras.callbacks.History at 0x7fdd71536950>"
            ]
          },
          "metadata": {
            "tags": []
          },
          "execution_count": 5
        }
      ]
    },
    {
      "cell_type": "code",
      "metadata": {
        "colab": {
          "base_uri": "https://localhost:8080/"
        },
        "id": "1exYIaf2X3Vm",
        "outputId": "0a4932ba-1084-4d89-d6d5-c343c5b61f42"
      },
      "source": [
        "y_pred = model.predict(x_data)\n",
        "\n",
        "# hidden layer 하나 추가해서\n",
        "# [[0] [1] [1] [0]]에 가까운 값이 나왔다.\n",
        "print(y_pred)"
      ],
      "execution_count": 6,
      "outputs": [
        {
          "output_type": "stream",
          "text": [
            "[[0.0219976 ]\n",
            " [0.98667216]\n",
            " [0.9684249 ]\n",
            " [0.019701  ]]\n"
          ],
          "name": "stdout"
        }
      ]
    },
    {
      "cell_type": "markdown",
      "metadata": {
        "id": "nDHt2P5DaIMF"
      },
      "source": [
        "# Keras Functional API\n",
        "\n",
        "우리는 지금까지 Keras의 Sequential 클래스를 사용하여 Sequential API를 사용했습니다. Sequential API는 순차적인 모델 설계에는 편리한 API 이지만, 복잡한 네트워크를 설계하기에는 한계가 있기 때문에 실무에서는 Functional API를 주로 사용합니다.\n",
        "\n",
        "위에서 했던 XOR 딥러닝 문제를 Functional API로 다시 작성해보겠습니다!"
      ]
    },
    {
      "cell_type": "code",
      "metadata": {
        "id": "esLNf0O9aoG0"
      },
      "source": [
        "import numpy as np\n",
        "from tensorflow.keras.models import Sequential, Model\n",
        "from tensorflow.keras.layers import Dense, Input\n",
        "from tensorflow.keras.optimizers import Adam, SGD"
      ],
      "execution_count": null,
      "outputs": []
    },
    {
      "cell_type": "markdown",
      "metadata": {
        "id": "B5vfGC5EbYUF"
      },
      "source": [
        "`model.summary()` 를 사용하여 모델의 구조를 확인할 수 있습니다.\n",
        "\n",
        "Sequential API를 사용하면 구조를 확인하기 힘들지만 Functional API를 사용하면 `model.summary()`를 사용하여 구조를 확인하기 쉽다는 장점도 있습니다."
      ]
    },
    {
      "cell_type": "code",
      "metadata": {
        "colab": {
          "base_uri": "https://localhost:8080/"
        },
        "id": "HunEvs9faHfD",
        "outputId": "73300550-0fab-4480-a594-a954e7b71e8b"
      },
      "source": [
        "input = Input(shape=(2,))\n",
        "hidden = Dense(8, activation='relu')(input)\n",
        "output = Dense(1, activation='sigmoid')(hidden)\n",
        "\n",
        "model = Model(inputs=input, outputs=output)\n",
        "\n",
        "model.compile(loss='binary_crossentropy', optimizer=SGD(lr=0.1))\n",
        "\n",
        "model.summary()"
      ],
      "execution_count": null,
      "outputs": [
        {
          "output_type": "stream",
          "text": [
            "Model: \"model_1\"\n",
            "_________________________________________________________________\n",
            "Layer (type)                 Output Shape              Param #   \n",
            "=================================================================\n",
            "input_2 (InputLayer)         [(None, 2)]               0         \n",
            "_________________________________________________________________\n",
            "dense_5 (Dense)              (None, 8)                 24        \n",
            "_________________________________________________________________\n",
            "dense_6 (Dense)              (None, 1)                 9         \n",
            "=================================================================\n",
            "Total params: 33\n",
            "Trainable params: 33\n",
            "Non-trainable params: 0\n",
            "_________________________________________________________________\n"
          ],
          "name": "stdout"
        }
      ]
    },
    {
      "cell_type": "code",
      "metadata": {
        "colab": {
          "base_uri": "https://localhost:8080/"
        },
        "id": "p-a-DOJDX6tH",
        "outputId": "b43a4a39-07e8-4117-aa46-dd2b095c785d"
      },
      "source": [
        "model.fit(x_data, y_data, epochs=1000, verbose=0)\n",
        "\n",
        "y_pred = model.predict(x_data)\n",
        "\n",
        "print(y_pred)"
      ],
      "execution_count": null,
      "outputs": [
        {
          "output_type": "stream",
          "text": [
            "[[0.02292162]\n",
            " [0.989807  ]\n",
            " [0.98963356]\n",
            " [0.00882056]]\n"
          ],
          "name": "stdout"
        }
      ]
    },
    {
      "cell_type": "code",
      "metadata": {
        "id": "MCKDXGjJbD1X"
      },
      "source": [
        ""
      ],
      "execution_count": null,
      "outputs": []
    }
  ]
}
{
  "nbformat": 4,
  "nbformat_minor": 0,
  "metadata": {
    "colab": {
      "name": "2주차 실습 - 01. 이진 논리 회귀의 사본",
      "provenance": [],
      "collapsed_sections": [],
      "toc_visible": true,
      "include_colab_link": true
    },
    "kernelspec": {
      "name": "python3",
      "display_name": "Python 3"
    }
  },
  "cells": [
    {
      "cell_type": "markdown",
      "metadata": {
        "id": "view-in-github",
        "colab_type": "text"
      },
      "source": [
        "<a href=\"https://colab.research.google.com/github/seunghy1468/Sparta_Coding_Machine_Learning/blob/main/2%EC%A3%BC%EC%B0%A8_%EC%8B%A4%EC%8A%B5_01_%EC%9D%B4%EC%A7%84_%EB%85%BC%EB%A6%AC_%ED%9A%8C%EA%B7%80%EC%9D%98_%EC%82%AC%EB%B3%B8.ipynb\" target=\"_parent\"><img src=\"https://colab.research.google.com/assets/colab-badge.svg\" alt=\"Open In Colab\"/></a>"
      ]
    },
    {
      "cell_type": "markdown",
      "metadata": {
        "id": "P25KQA-p43Ev"
      },
      "source": [
        "# 데이터셋 다운로드\n",
        "\n",
        "타이타닉 데이터셋: https://www.kaggle.com/heptapod/titanic"
      ]
    },
    {
      "cell_type": "code",
      "metadata": {
        "id": "wM_sZdYLyrPG"
      },
      "source": [
        "import os\n",
        "os.environ['KAGGLE_USERNAME'] = 'kairess' # username\n",
        "os.environ['KAGGLE_KEY'] = '7d0443b2dfffc57c94271fd797511896' # key"
      ],
      "execution_count": null,
      "outputs": []
    },
    {
      "cell_type": "code",
      "metadata": {
        "id": "4Rgbaw5Uyu60",
        "colab": {
          "base_uri": "https://localhost:8080/"
        },
        "outputId": "24516131-e076-41ab-bb69-1f7d7c0cc786"
      },
      "source": [
        "!kaggle datasets download -d heptapod/titanic"
      ],
      "execution_count": null,
      "outputs": [
        {
          "output_type": "stream",
          "text": [
            "Downloading titanic.zip to /content\n",
            "\r  0% 0.00/10.8k [00:00<?, ?B/s]\n",
            "\r100% 10.8k/10.8k [00:00<00:00, 10.1MB/s]\n"
          ],
          "name": "stdout"
        }
      ]
    },
    {
      "cell_type": "code",
      "metadata": {
        "id": "hJ0BOlwJyyCp",
        "colab": {
          "base_uri": "https://localhost:8080/"
        },
        "outputId": "93ec9aa9-aa4c-4327-dd62-e1a8318d8971"
      },
      "source": [
        "!unzip titanic.zip"
      ],
      "execution_count": null,
      "outputs": [
        {
          "output_type": "stream",
          "text": [
            "Archive:  titanic.zip\n",
            "  inflating: train_and_test2.csv     \n"
          ],
          "name": "stdout"
        }
      ]
    },
    {
      "cell_type": "code",
      "metadata": {
        "id": "2ASLmR4Gy1EA"
      },
      "source": [
        "from tensorflow.keras.models import Sequential\n",
        "from tensorflow.keras.layers import Dense\n",
        "from tensorflow.keras.optimizers import Adam, SGD\n",
        "import numpy as np\n",
        "import pandas as pd\n",
        "import matplotlib.pyplot as plt \n",
        "import seaborn as sns\n",
        "from sklearn.model_selection import train_test_split\n",
        "from sklearn.preprocessing import StandardScaler"
      ],
      "execution_count": null,
      "outputs": []
    },
    {
      "cell_type": "markdown",
      "metadata": {
        "id": "VmA5477o5FDq"
      },
      "source": [
        "# 데이터셋 로드"
      ]
    },
    {
      "cell_type": "code",
      "metadata": {
        "id": "_QeMWOyz4oZh",
        "colab": {
          "base_uri": "https://localhost:8080/",
          "height": 222
        },
        "outputId": "21f9bdc1-1c7b-4460-cdae-59b7660f053e"
      },
      "source": [
        "df = pd.read_csv('train_and_test2.csv')\n",
        "\n",
        "df.head(5)"
      ],
      "execution_count": null,
      "outputs": [
        {
          "output_type": "execute_result",
          "data": {
            "text/html": [
              "<div>\n",
              "<style scoped>\n",
              "    .dataframe tbody tr th:only-of-type {\n",
              "        vertical-align: middle;\n",
              "    }\n",
              "\n",
              "    .dataframe tbody tr th {\n",
              "        vertical-align: top;\n",
              "    }\n",
              "\n",
              "    .dataframe thead th {\n",
              "        text-align: right;\n",
              "    }\n",
              "</style>\n",
              "<table border=\"1\" class=\"dataframe\">\n",
              "  <thead>\n",
              "    <tr style=\"text-align: right;\">\n",
              "      <th></th>\n",
              "      <th>Passengerid</th>\n",
              "      <th>Age</th>\n",
              "      <th>Fare</th>\n",
              "      <th>Sex</th>\n",
              "      <th>sibsp</th>\n",
              "      <th>zero</th>\n",
              "      <th>zero.1</th>\n",
              "      <th>zero.2</th>\n",
              "      <th>zero.3</th>\n",
              "      <th>zero.4</th>\n",
              "      <th>zero.5</th>\n",
              "      <th>zero.6</th>\n",
              "      <th>Parch</th>\n",
              "      <th>zero.7</th>\n",
              "      <th>zero.8</th>\n",
              "      <th>zero.9</th>\n",
              "      <th>zero.10</th>\n",
              "      <th>zero.11</th>\n",
              "      <th>zero.12</th>\n",
              "      <th>zero.13</th>\n",
              "      <th>zero.14</th>\n",
              "      <th>Pclass</th>\n",
              "      <th>zero.15</th>\n",
              "      <th>zero.16</th>\n",
              "      <th>Embarked</th>\n",
              "      <th>zero.17</th>\n",
              "      <th>zero.18</th>\n",
              "      <th>2urvived</th>\n",
              "    </tr>\n",
              "  </thead>\n",
              "  <tbody>\n",
              "    <tr>\n",
              "      <th>0</th>\n",
              "      <td>1</td>\n",
              "      <td>22.0</td>\n",
              "      <td>7.2500</td>\n",
              "      <td>0</td>\n",
              "      <td>1</td>\n",
              "      <td>0</td>\n",
              "      <td>0</td>\n",
              "      <td>0</td>\n",
              "      <td>0</td>\n",
              "      <td>0</td>\n",
              "      <td>0</td>\n",
              "      <td>0</td>\n",
              "      <td>0</td>\n",
              "      <td>0</td>\n",
              "      <td>0</td>\n",
              "      <td>0</td>\n",
              "      <td>0</td>\n",
              "      <td>0</td>\n",
              "      <td>0</td>\n",
              "      <td>0</td>\n",
              "      <td>0</td>\n",
              "      <td>3</td>\n",
              "      <td>0</td>\n",
              "      <td>0</td>\n",
              "      <td>2.0</td>\n",
              "      <td>0</td>\n",
              "      <td>0</td>\n",
              "      <td>0</td>\n",
              "    </tr>\n",
              "    <tr>\n",
              "      <th>1</th>\n",
              "      <td>2</td>\n",
              "      <td>38.0</td>\n",
              "      <td>71.2833</td>\n",
              "      <td>1</td>\n",
              "      <td>1</td>\n",
              "      <td>0</td>\n",
              "      <td>0</td>\n",
              "      <td>0</td>\n",
              "      <td>0</td>\n",
              "      <td>0</td>\n",
              "      <td>0</td>\n",
              "      <td>0</td>\n",
              "      <td>0</td>\n",
              "      <td>0</td>\n",
              "      <td>0</td>\n",
              "      <td>0</td>\n",
              "      <td>0</td>\n",
              "      <td>0</td>\n",
              "      <td>0</td>\n",
              "      <td>0</td>\n",
              "      <td>0</td>\n",
              "      <td>1</td>\n",
              "      <td>0</td>\n",
              "      <td>0</td>\n",
              "      <td>0.0</td>\n",
              "      <td>0</td>\n",
              "      <td>0</td>\n",
              "      <td>1</td>\n",
              "    </tr>\n",
              "    <tr>\n",
              "      <th>2</th>\n",
              "      <td>3</td>\n",
              "      <td>26.0</td>\n",
              "      <td>7.9250</td>\n",
              "      <td>1</td>\n",
              "      <td>0</td>\n",
              "      <td>0</td>\n",
              "      <td>0</td>\n",
              "      <td>0</td>\n",
              "      <td>0</td>\n",
              "      <td>0</td>\n",
              "      <td>0</td>\n",
              "      <td>0</td>\n",
              "      <td>0</td>\n",
              "      <td>0</td>\n",
              "      <td>0</td>\n",
              "      <td>0</td>\n",
              "      <td>0</td>\n",
              "      <td>0</td>\n",
              "      <td>0</td>\n",
              "      <td>0</td>\n",
              "      <td>0</td>\n",
              "      <td>3</td>\n",
              "      <td>0</td>\n",
              "      <td>0</td>\n",
              "      <td>2.0</td>\n",
              "      <td>0</td>\n",
              "      <td>0</td>\n",
              "      <td>1</td>\n",
              "    </tr>\n",
              "    <tr>\n",
              "      <th>3</th>\n",
              "      <td>4</td>\n",
              "      <td>35.0</td>\n",
              "      <td>53.1000</td>\n",
              "      <td>1</td>\n",
              "      <td>1</td>\n",
              "      <td>0</td>\n",
              "      <td>0</td>\n",
              "      <td>0</td>\n",
              "      <td>0</td>\n",
              "      <td>0</td>\n",
              "      <td>0</td>\n",
              "      <td>0</td>\n",
              "      <td>0</td>\n",
              "      <td>0</td>\n",
              "      <td>0</td>\n",
              "      <td>0</td>\n",
              "      <td>0</td>\n",
              "      <td>0</td>\n",
              "      <td>0</td>\n",
              "      <td>0</td>\n",
              "      <td>0</td>\n",
              "      <td>1</td>\n",
              "      <td>0</td>\n",
              "      <td>0</td>\n",
              "      <td>2.0</td>\n",
              "      <td>0</td>\n",
              "      <td>0</td>\n",
              "      <td>1</td>\n",
              "    </tr>\n",
              "    <tr>\n",
              "      <th>4</th>\n",
              "      <td>5</td>\n",
              "      <td>35.0</td>\n",
              "      <td>8.0500</td>\n",
              "      <td>0</td>\n",
              "      <td>0</td>\n",
              "      <td>0</td>\n",
              "      <td>0</td>\n",
              "      <td>0</td>\n",
              "      <td>0</td>\n",
              "      <td>0</td>\n",
              "      <td>0</td>\n",
              "      <td>0</td>\n",
              "      <td>0</td>\n",
              "      <td>0</td>\n",
              "      <td>0</td>\n",
              "      <td>0</td>\n",
              "      <td>0</td>\n",
              "      <td>0</td>\n",
              "      <td>0</td>\n",
              "      <td>0</td>\n",
              "      <td>0</td>\n",
              "      <td>3</td>\n",
              "      <td>0</td>\n",
              "      <td>0</td>\n",
              "      <td>2.0</td>\n",
              "      <td>0</td>\n",
              "      <td>0</td>\n",
              "      <td>0</td>\n",
              "    </tr>\n",
              "  </tbody>\n",
              "</table>\n",
              "</div>"
            ],
            "text/plain": [
              "   Passengerid   Age     Fare  Sex  ...  Embarked  zero.17  zero.18  2urvived\n",
              "0            1  22.0   7.2500    0  ...       2.0        0        0         0\n",
              "1            2  38.0  71.2833    1  ...       0.0        0        0         1\n",
              "2            3  26.0   7.9250    1  ...       2.0        0        0         1\n",
              "3            4  35.0  53.1000    1  ...       2.0        0        0         1\n",
              "4            5  35.0   8.0500    0  ...       2.0        0        0         0\n",
              "\n",
              "[5 rows x 28 columns]"
            ]
          },
          "metadata": {
            "tags": []
          },
          "execution_count": 5
        }
      ]
    },
    {
      "cell_type": "markdown",
      "metadata": {
        "id": "9L88vfF15HJG"
      },
      "source": [
        "# 사용하는 칼럼만 추출"
      ]
    },
    {
      "cell_type": "code",
      "metadata": {
        "id": "zLbHlK1oy3t-",
        "colab": {
          "base_uri": "https://localhost:8080/",
          "height": 202
        },
        "outputId": "a2cfc8e8-dd10-439a-ebac-7bd65abc44fa"
      },
      "source": [
        "df = pd.read_csv('train_and_test2.csv', usecols=[\n",
        "  'Age', # 나이\n",
        "  'Fare', # 승차 요금\n",
        "  'Sex', # 성별\n",
        "  'sibsp', # 타이타닉에 탑승한 형제자매, 배우자의 수\n",
        "  'Parch', # 타이타니게 탑승한 부모, 자식의 수\n",
        "  'Pclass', # 티켓 등급 (1, 2, 3등석)\n",
        "  'Embarked', # 탑승국\n",
        "  '2urvived' # 생존 여부 (0: 사망, 1: 생존)\n",
        "])\n",
        "\n",
        "df.head(5)"
      ],
      "execution_count": null,
      "outputs": [
        {
          "output_type": "execute_result",
          "data": {
            "text/html": [
              "<div>\n",
              "<style scoped>\n",
              "    .dataframe tbody tr th:only-of-type {\n",
              "        vertical-align: middle;\n",
              "    }\n",
              "\n",
              "    .dataframe tbody tr th {\n",
              "        vertical-align: top;\n",
              "    }\n",
              "\n",
              "    .dataframe thead th {\n",
              "        text-align: right;\n",
              "    }\n",
              "</style>\n",
              "<table border=\"1\" class=\"dataframe\">\n",
              "  <thead>\n",
              "    <tr style=\"text-align: right;\">\n",
              "      <th></th>\n",
              "      <th>Age</th>\n",
              "      <th>Fare</th>\n",
              "      <th>Sex</th>\n",
              "      <th>sibsp</th>\n",
              "      <th>Parch</th>\n",
              "      <th>Pclass</th>\n",
              "      <th>Embarked</th>\n",
              "      <th>2urvived</th>\n",
              "    </tr>\n",
              "  </thead>\n",
              "  <tbody>\n",
              "    <tr>\n",
              "      <th>0</th>\n",
              "      <td>22.0</td>\n",
              "      <td>7.2500</td>\n",
              "      <td>0</td>\n",
              "      <td>1</td>\n",
              "      <td>0</td>\n",
              "      <td>3</td>\n",
              "      <td>2.0</td>\n",
              "      <td>0</td>\n",
              "    </tr>\n",
              "    <tr>\n",
              "      <th>1</th>\n",
              "      <td>38.0</td>\n",
              "      <td>71.2833</td>\n",
              "      <td>1</td>\n",
              "      <td>1</td>\n",
              "      <td>0</td>\n",
              "      <td>1</td>\n",
              "      <td>0.0</td>\n",
              "      <td>1</td>\n",
              "    </tr>\n",
              "    <tr>\n",
              "      <th>2</th>\n",
              "      <td>26.0</td>\n",
              "      <td>7.9250</td>\n",
              "      <td>1</td>\n",
              "      <td>0</td>\n",
              "      <td>0</td>\n",
              "      <td>3</td>\n",
              "      <td>2.0</td>\n",
              "      <td>1</td>\n",
              "    </tr>\n",
              "    <tr>\n",
              "      <th>3</th>\n",
              "      <td>35.0</td>\n",
              "      <td>53.1000</td>\n",
              "      <td>1</td>\n",
              "      <td>1</td>\n",
              "      <td>0</td>\n",
              "      <td>1</td>\n",
              "      <td>2.0</td>\n",
              "      <td>1</td>\n",
              "    </tr>\n",
              "    <tr>\n",
              "      <th>4</th>\n",
              "      <td>35.0</td>\n",
              "      <td>8.0500</td>\n",
              "      <td>0</td>\n",
              "      <td>0</td>\n",
              "      <td>0</td>\n",
              "      <td>3</td>\n",
              "      <td>2.0</td>\n",
              "      <td>0</td>\n",
              "    </tr>\n",
              "  </tbody>\n",
              "</table>\n",
              "</div>"
            ],
            "text/plain": [
              "    Age     Fare  Sex  sibsp  Parch  Pclass  Embarked  2urvived\n",
              "0  22.0   7.2500    0      1      0       3       2.0         0\n",
              "1  38.0  71.2833    1      1      0       1       0.0         1\n",
              "2  26.0   7.9250    1      0      0       3       2.0         1\n",
              "3  35.0  53.1000    1      1      0       1       2.0         1\n",
              "4  35.0   8.0500    0      0      0       3       2.0         0"
            ]
          },
          "metadata": {
            "tags": []
          },
          "execution_count": 6
        }
      ]
    },
    {
      "cell_type": "markdown",
      "metadata": {
        "id": "Z0apZfFLIqGg"
      },
      "source": [
        "# 간단하게 데이터셋 미리보기\n",
        "\n",
        "성별에 따른 생존자 수"
      ]
    },
    {
      "cell_type": "code",
      "metadata": {
        "id": "qhzg_8_5IsLC",
        "colab": {
          "base_uri": "https://localhost:8080/",
          "height": 297
        },
        "outputId": "5dbf838d-dd58-4a7e-ecde-e893b4ec7600"
      },
      "source": [
        "sns.countplot(x='Sex', hue='2urvived', data=df)"
      ],
      "execution_count": null,
      "outputs": [
        {
          "output_type": "execute_result",
          "data": {
            "text/plain": [
              "<matplotlib.axes._subplots.AxesSubplot at 0x7f7385b2fe48>"
            ]
          },
          "metadata": {
            "tags": []
          },
          "execution_count": 7
        },
        {
          "output_type": "display_data",
          "data": {
            "image/png": "[encoded data removed]",
            "text/plain": [
              "<Figure size 432x288 with 1 Axes>"
            ]
          },
          "metadata": {
            "tags": [],
            "needs_background": "light"
          }
        }
      ]
    },
    {
      "cell_type": "markdown",
      "metadata": {
        "id": "tgMzlMeW5Luq"
      },
      "source": [
        "# 생존여부 클래스의 개수 확인"
      ]
    },
    {
      "cell_type": "code",
      "metadata": {
        "colab": {
          "base_uri": "https://localhost:8080/",
          "height": 298
        },
        "id": "fAeYupYay9yd",
        "outputId": "0bb8300b-1847-4fc1-955c-1a60fa480fcf"
      },
      "source": [
        "sns.countplot(x=df['2urvived'])"
      ],
      "execution_count": null,
      "outputs": [
        {
          "output_type": "execute_result",
          "data": {
            "text/plain": [
              "<matplotlib.axes._subplots.AxesSubplot at 0x7f73847cdc88>"
            ]
          },
          "metadata": {
            "tags": []
          },
          "execution_count": 8
        },
        {
          "output_type": "display_data",
          "data": {
            "image/png": "[encoded data removed]",
            "text/plain": [
              "<Figure size 432x288 with 1 Axes>"
            ]
          },
          "metadata": {
            "tags": [],
            "needs_background": "light"
          }
        }
      ]
    },
    {
      "cell_type": "markdown",
      "metadata": {
        "id": "tGrwmr3y5TEs"
      },
      "source": [
        "# 전처리 (Preprocessing)\n",
        "\n",
        "## 비어있는 행 확인\n",
        "\n",
        "1. 비어있는 값(null 또는 na)이 있는지 확인하고,\n",
        "2. 비어있는 값을 포함한 행을 제거한다"
      ]
    },
    {
      "cell_type": "code",
      "metadata": {
        "colab": {
          "base_uri": "https://localhost:8080/"
        },
        "id": "IeBCNa8g4yS5",
        "outputId": "94fc6df7-e76e-4c98-b78c-34baa3024c11"
      },
      "source": [
        "print(df.isnull().sum())"
      ],
      "execution_count": null,
      "outputs": [
        {
          "output_type": "stream",
          "text": [
            "Age         0\n",
            "Fare        0\n",
            "Sex         0\n",
            "sibsp       0\n",
            "Parch       0\n",
            "Pclass      0\n",
            "Embarked    2\n",
            "2urvived    0\n",
            "dtype: int64\n"
          ],
          "name": "stdout"
        }
      ]
    },
    {
      "cell_type": "code",
      "metadata": {
        "colab": {
          "base_uri": "https://localhost:8080/"
        },
        "id": "77JPnZbM5fov",
        "outputId": "e20eef51-c575-46a1-fa3a-002459b36867"
      },
      "source": [
        "print(len(df))\n",
        "\n",
        "df = df.dropna()\n",
        "\n",
        "print(len(df))"
      ],
      "execution_count": null,
      "outputs": [
        {
          "output_type": "stream",
          "text": [
            "1309\n",
            "1307\n"
          ],
          "name": "stdout"
        }
      ]
    },
    {
      "cell_type": "markdown",
      "metadata": {
        "id": "HrAgK4qZ5mHP"
      },
      "source": [
        "## X, y 데이터 분할"
      ]
    },
    {
      "cell_type": "code",
      "metadata": {
        "colab": {
          "base_uri": "https://localhost:8080/",
          "height": 202
        },
        "id": "8DHqVmqN0jLS",
        "outputId": "c7de5bec-3227-47de-853a-b1d70801456c"
      },
      "source": [
        "x_data = df.drop(columns=['2urvived'], axis=1)\n",
        "x_data = x_data.astype(np.float32)\n",
        "\n",
        "x_data.head(5)"
      ],
      "execution_count": null,
      "outputs": [
        {
          "output_type": "execute_result",
          "data": {
            "text/html": [
              "<div>\n",
              "<style scoped>\n",
              "    .dataframe tbody tr th:only-of-type {\n",
              "        vertical-align: middle;\n",
              "    }\n",
              "\n",
              "    .dataframe tbody tr th {\n",
              "        vertical-align: top;\n",
              "    }\n",
              "\n",
              "    .dataframe thead th {\n",
              "        text-align: right;\n",
              "    }\n",
              "</style>\n",
              "<table border=\"1\" class=\"dataframe\">\n",
              "  <thead>\n",
              "    <tr style=\"text-align: right;\">\n",
              "      <th></th>\n",
              "      <th>Age</th>\n",
              "      <th>Fare</th>\n",
              "      <th>Sex</th>\n",
              "      <th>sibsp</th>\n",
              "      <th>Parch</th>\n",
              "      <th>Pclass</th>\n",
              "      <th>Embarked</th>\n",
              "    </tr>\n",
              "  </thead>\n",
              "  <tbody>\n",
              "    <tr>\n",
              "      <th>0</th>\n",
              "      <td>22.0</td>\n",
              "      <td>7.250000</td>\n",
              "      <td>0.0</td>\n",
              "      <td>1.0</td>\n",
              "      <td>0.0</td>\n",
              "      <td>3.0</td>\n",
              "      <td>2.0</td>\n",
              "    </tr>\n",
              "    <tr>\n",
              "      <th>1</th>\n",
              "      <td>38.0</td>\n",
              "      <td>71.283302</td>\n",
              "      <td>1.0</td>\n",
              "      <td>1.0</td>\n",
              "      <td>0.0</td>\n",
              "      <td>1.0</td>\n",
              "      <td>0.0</td>\n",
              "    </tr>\n",
              "    <tr>\n",
              "      <th>2</th>\n",
              "      <td>26.0</td>\n",
              "      <td>7.925000</td>\n",
              "      <td>1.0</td>\n",
              "      <td>0.0</td>\n",
              "      <td>0.0</td>\n",
              "      <td>3.0</td>\n",
              "      <td>2.0</td>\n",
              "    </tr>\n",
              "    <tr>\n",
              "      <th>3</th>\n",
              "      <td>35.0</td>\n",
              "      <td>53.099998</td>\n",
              "      <td>1.0</td>\n",
              "      <td>1.0</td>\n",
              "      <td>0.0</td>\n",
              "      <td>1.0</td>\n",
              "      <td>2.0</td>\n",
              "    </tr>\n",
              "    <tr>\n",
              "      <th>4</th>\n",
              "      <td>35.0</td>\n",
              "      <td>8.050000</td>\n",
              "      <td>0.0</td>\n",
              "      <td>0.0</td>\n",
              "      <td>0.0</td>\n",
              "      <td>3.0</td>\n",
              "      <td>2.0</td>\n",
              "    </tr>\n",
              "  </tbody>\n",
              "</table>\n",
              "</div>"
            ],
            "text/plain": [
              "    Age       Fare  Sex  sibsp  Parch  Pclass  Embarked\n",
              "0  22.0   7.250000  0.0    1.0    0.0     3.0       2.0\n",
              "1  38.0  71.283302  1.0    1.0    0.0     1.0       0.0\n",
              "2  26.0   7.925000  1.0    0.0    0.0     3.0       2.0\n",
              "3  35.0  53.099998  1.0    1.0    0.0     1.0       2.0\n",
              "4  35.0   8.050000  0.0    0.0    0.0     3.0       2.0"
            ]
          },
          "metadata": {
            "tags": []
          },
          "execution_count": 11
        }
      ]
    },
    {
      "cell_type": "code",
      "metadata": {
        "colab": {
          "base_uri": "https://localhost:8080/",
          "height": 202
        },
        "id": "FY6Wpaug0sz5",
        "outputId": "761103c5-452e-4848-8407-f6b78848d910"
      },
      "source": [
        "y_data = df[['2urvived']]\n",
        "y_data = y_data.astype(np.float32)\n",
        "\n",
        "y_data.head(5)"
      ],
      "execution_count": null,
      "outputs": [
        {
          "output_type": "execute_result",
          "data": {
            "text/html": [
              "<div>\n",
              "<style scoped>\n",
              "    .dataframe tbody tr th:only-of-type {\n",
              "        vertical-align: middle;\n",
              "    }\n",
              "\n",
              "    .dataframe tbody tr th {\n",
              "        vertical-align: top;\n",
              "    }\n",
              "\n",
              "    .dataframe thead th {\n",
              "        text-align: right;\n",
              "    }\n",
              "</style>\n",
              "<table border=\"1\" class=\"dataframe\">\n",
              "  <thead>\n",
              "    <tr style=\"text-align: right;\">\n",
              "      <th></th>\n",
              "      <th>2urvived</th>\n",
              "    </tr>\n",
              "  </thead>\n",
              "  <tbody>\n",
              "    <tr>\n",
              "      <th>0</th>\n",
              "      <td>0.0</td>\n",
              "    </tr>\n",
              "    <tr>\n",
              "      <th>1</th>\n",
              "      <td>1.0</td>\n",
              "    </tr>\n",
              "    <tr>\n",
              "      <th>2</th>\n",
              "      <td>1.0</td>\n",
              "    </tr>\n",
              "    <tr>\n",
              "      <th>3</th>\n",
              "      <td>1.0</td>\n",
              "    </tr>\n",
              "    <tr>\n",
              "      <th>4</th>\n",
              "      <td>0.0</td>\n",
              "    </tr>\n",
              "  </tbody>\n",
              "</table>\n",
              "</div>"
            ],
            "text/plain": [
              "   2urvived\n",
              "0       0.0\n",
              "1       1.0\n",
              "2       1.0\n",
              "3       1.0\n",
              "4       0.0"
            ]
          },
          "metadata": {
            "tags": []
          },
          "execution_count": 12
        }
      ]
    },
    {
      "cell_type": "markdown",
      "metadata": {
        "id": "GGG7GirU5qsy"
      },
      "source": [
        "## 표준화 (Standardization)\n",
        "\n",
        "https://scikit-learn.org/stable/modules/generated/sklearn.preprocessing.StandardScaler.html\n",
        "\n",
        "z = (x - u) / s\n",
        "\n",
        "z = (x - 평균) / 표준편차"
      ]
    },
    {
      "cell_type": "code",
      "metadata": {
        "colab": {
          "base_uri": "https://localhost:8080/"
        },
        "id": "C3DX5btu0xI6",
        "outputId": "9e0e0924-3483-45d0-ebcf-e14297f14def"
      },
      "source": [
        "scaler = StandardScaler()\n",
        "x_data_scaled = scaler.fit_transform(x_data)\n",
        "\n",
        "print(x_data.values[0])\n",
        "print(x_data_scaled[0])"
      ],
      "execution_count": null,
      "outputs": [
        {
          "output_type": "stream",
          "text": [
            "[22.    7.25  0.    1.    0.    3.    2.  ]\n",
            "[-0.58026063 -0.5018386  -0.74189967  0.48027173 -0.44540733  0.8404475\n",
            "  0.6229398 ]\n"
          ],
          "name": "stdout"
        }
      ]
    },
    {
      "cell_type": "markdown",
      "metadata": {
        "id": "HlPAz6Jf6KgB"
      },
      "source": [
        "# 학습/검증 데이터 분할"
      ]
    },
    {
      "cell_type": "code",
      "metadata": {
        "colab": {
          "base_uri": "https://localhost:8080/"
        },
        "id": "ehiJ3J1m00A9",
        "outputId": "b2635131-583c-40f4-84a3-07eb998194bd"
      },
      "source": [
        "x_train, x_val, y_train, y_val = train_test_split(x_data, y_data, test_size=0.2, random_state=2021)\n",
        "\n",
        "print(x_train.shape, x_val.shape)\n",
        "print(y_train.shape, y_val.shape)"
      ],
      "execution_count": null,
      "outputs": [
        {
          "output_type": "stream",
          "text": [
            "(1045, 7) (262, 7)\n",
            "(1045, 1) (262, 1)\n"
          ],
          "name": "stdout"
        }
      ]
    },
    {
      "cell_type": "markdown",
      "metadata": {
        "id": "JeDeJOCu6MLy"
      },
      "source": [
        "# 모델 학습"
      ]
    },
    {
      "cell_type": "code",
      "metadata": {
        "colab": {
          "base_uri": "https://localhost:8080/"
        },
        "id": "DdFgm6wP01vi",
        "outputId": "f10a1417-bf40-4e53-e535-d85b9679c1e0"
      },
      "source": [
        "model = Sequential([\n",
        "  Dense(1, activation='sigmoid')\n",
        "])\n",
        "\n",
        "model.compile(loss='binary_crossentropy', optimizer=Adam(lr=0.01), metrics=['acc'])\n",
        "\n",
        "model.fit(\n",
        "    x_train,\n",
        "    y_train,\n",
        "    validation_data=(x_val, y_val), # 검증 데이터를 넣어주면 한 epoch이 끝날때마다 자동으로 검증\n",
        "    epochs=20 # epochs 복수형으로 쓰기!\n",
        ")"
      ],
      "execution_count": null,
      "outputs": [
        {
          "output_type": "stream",
          "text": [
            "Epoch 1/20\n",
            "33/33 [==============================] - 1s 14ms/step - loss: 1.4387 - acc: 0.5671 - val_loss: 0.6340 - val_acc: 0.7290\n",
            "Epoch 2/20\n",
            "33/33 [==============================] - 0s 2ms/step - loss: 0.6620 - acc: 0.6820 - val_loss: 0.5659 - val_acc: 0.7176\n",
            "Epoch 3/20\n",
            "33/33 [==============================] - 0s 2ms/step - loss: 0.6135 - acc: 0.6996 - val_loss: 0.5863 - val_acc: 0.7176\n",
            "Epoch 4/20\n",
            "33/33 [==============================] - 0s 2ms/step - loss: 0.5858 - acc: 0.7097 - val_loss: 0.5198 - val_acc: 0.7901\n",
            "Epoch 5/20\n",
            "33/33 [==============================] - 0s 2ms/step - loss: 0.5483 - acc: 0.7378 - val_loss: 0.4759 - val_acc: 0.7863\n",
            "Epoch 6/20\n",
            "33/33 [==============================] - 0s 2ms/step - loss: 0.5762 - acc: 0.7348 - val_loss: 0.5827 - val_acc: 0.7595\n",
            "Epoch 7/20\n",
            "33/33 [==============================] - 0s 2ms/step - loss: 0.5302 - acc: 0.7514 - val_loss: 0.4506 - val_acc: 0.7939\n",
            "Epoch 8/20\n",
            "33/33 [==============================] - 0s 3ms/step - loss: 0.5047 - acc: 0.7469 - val_loss: 0.5182 - val_acc: 0.7634\n",
            "Epoch 9/20\n",
            "33/33 [==============================] - 0s 2ms/step - loss: 0.5010 - acc: 0.7773 - val_loss: 0.4583 - val_acc: 0.7824\n",
            "Epoch 10/20\n",
            "33/33 [==============================] - 0s 6ms/step - loss: 0.4857 - acc: 0.7792 - val_loss: 0.4894 - val_acc: 0.7863\n",
            "Epoch 11/20\n",
            "33/33 [==============================] - 0s 2ms/step - loss: 0.4865 - acc: 0.7604 - val_loss: 0.4460 - val_acc: 0.7824\n",
            "Epoch 12/20\n",
            "33/33 [==============================] - 0s 2ms/step - loss: 0.4989 - acc: 0.7605 - val_loss: 0.6511 - val_acc: 0.7366\n",
            "Epoch 13/20\n",
            "33/33 [==============================] - 0s 2ms/step - loss: 0.5357 - acc: 0.7623 - val_loss: 0.4556 - val_acc: 0.7863\n",
            "Epoch 14/20\n",
            "33/33 [==============================] - 0s 2ms/step - loss: 0.4885 - acc: 0.7642 - val_loss: 0.4507 - val_acc: 0.7863\n",
            "Epoch 15/20\n",
            "33/33 [==============================] - 0s 2ms/step - loss: 0.4896 - acc: 0.7911 - val_loss: 0.4516 - val_acc: 0.7786\n",
            "Epoch 16/20\n",
            "33/33 [==============================] - 0s 2ms/step - loss: 0.5004 - acc: 0.7634 - val_loss: 0.5177 - val_acc: 0.7710\n",
            "Epoch 17/20\n",
            "33/33 [==============================] - 0s 3ms/step - loss: 0.4963 - acc: 0.7683 - val_loss: 0.4357 - val_acc: 0.7863\n",
            "Epoch 18/20\n",
            "33/33 [==============================] - 0s 2ms/step - loss: 0.4854 - acc: 0.7887 - val_loss: 0.4805 - val_acc: 0.7786\n",
            "Epoch 19/20\n",
            "33/33 [==============================] - 0s 2ms/step - loss: 0.4833 - acc: 0.7797 - val_loss: 0.4408 - val_acc: 0.7863\n",
            "Epoch 20/20\n",
            "33/33 [==============================] - 0s 2ms/step - loss: 0.4796 - acc: 0.7761 - val_loss: 0.4789 - val_acc: 0.7863\n"
          ],
          "name": "stdout"
        },
        {
          "output_type": "execute_result",
          "data": {
            "text/plain": [
              "<tensorflow.python.keras.callbacks.History at 0x7f7380256940>"
            ]
          },
          "metadata": {
            "tags": []
          },
          "execution_count": 15
        }
      ]
    },
    {
      "cell_type": "code",
      "metadata": {
        "id": "grSTcGkU5-XT"
      },
      "source": [
        ""
      ],
      "execution_count": null,
      "outputs": []
    }
  ]
}
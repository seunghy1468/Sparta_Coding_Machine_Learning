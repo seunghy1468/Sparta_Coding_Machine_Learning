{
  "nbformat": 4,
  "nbformat_minor": 0,
  "metadata": {
    "colab": {
      "name": "1주차 실습 - 02. 캐글 선형회귀 실습의 사본",
      "provenance": [],
      "collapsed_sections": [],
      "include_colab_link": true
    },
    "kernelspec": {
      "name": "python3",
      "display_name": "Python 3"
    }
  },
  "cells": [
    {
      "cell_type": "markdown",
      "metadata": {
        "id": "view-in-github",
        "colab_type": "text"
      },
      "source": [
        "<a href=\"https://colab.research.google.com/github/seunghy1468/Sparta_Coding_Machine_Learning/blob/main/1%EC%A3%BC%EC%B0%A8_%EC%8B%A4%EC%8A%B5_02_%EC%BA%90%EA%B8%80_%EC%84%A0%ED%98%95%ED%9A%8C%EA%B7%80_%EC%8B%A4%EC%8A%B5%EC%9D%98_%EC%82%AC%EB%B3%B8.ipynb\" target=\"_parent\"><img src=\"https://colab.research.google.com/assets/colab-badge.svg\" alt=\"Open In Colab\"/></a>"
      ]
    },
    {
      "cell_type": "markdown",
      "metadata": {
        "id": "fJgk2C1x9D2a"
      },
      "source": [
        "# Kaggle 캐글\n",
        "\n",
        "https://kaggle.com\n",
        "\n",
        "캐글은 머신러닝 엔지니어가 레벨업 할 수 있는 던전이자, 사냥터입니다. 수많은 공개된 데이터셋과 각 데이터셋 별로 사람들이 분석한 결과들을 모아놓은 플랫폼이죠.\n",
        "\n",
        "기업 및 단체에서 Prize를 걸고 데이터와 해결 과제를 등록하면, 데이터 사이언티스트들이 이를 해결하기 위해 모델을 개발하고 경쟁하기도 하는 플랫폼입니다."
      ]
    },
    {
      "cell_type": "markdown",
      "metadata": {
        "id": "PjcdOo2bXqjA"
      },
      "source": [
        "### Kaggle이란\n",
        "데이터 사이언티스트를 위한 커뮤니티이다.\n",
        "data scientist, machine learning enginner도 있고~\n",
        "\n"
      ]
    },
    {
      "cell_type": "markdown",
      "metadata": {
        "id": "ORmI7HI59t1q"
      },
      "source": [
        "## Colab에서 Kaggle 데이터셋 다운로드 방법\n",
        "\n",
        "1. [Kaggle](https://www.kaggle.com) 회원가입\n",
        "2. Account(계정) 페이지 진입 (https://www.kaggle.com/[사옹자이름]/account)\n",
        "3. API - Create New API Token 클릭하고 kaggle.json 다운로드\n",
        "4. 브라우저에서 json 파일을 열어 username 및 key 복사\n",
        "5. 아래 코드에 자신의 username 및 key를 붙여넣어 환경변수 설정 실행"
      ]
    },
    {
      "cell_type": "code",
      "metadata": {
        "id": "dR2b4ocY-Kul"
      },
      "source": [
        "import os\n",
        "os.environ['KAGGLE_USERNAME'] = '' # username\n",
        "os.environ['KAGGLE_KEY'] = '' # key"
      ],
      "execution_count": 1,
      "outputs": []
    },
    {
      "cell_type": "markdown",
      "metadata": {
        "id": "JKquhsXV_X72"
      },
      "source": [
        "## 광고 데이터셋 다운로드\n",
        "\n",
        "1. Kaggle에서 원하는 데이터셋을 검색 (예: https://www.kaggle.com/ashydv/advertising-dataset)\n",
        "2. [Copy API command] 버튼 클릭 (New Notebook 옆에 ... 버튼 클릭)\n",
        "3. 코드 셀에 붙여넣고 실행! (맨 앞에 \"!\" 꼭 붙이는거 잊지 마세요!)\n",
        "\n"
      ]
    },
    {
      "cell_type": "code",
      "metadata": {
        "colab": {
          "base_uri": "https://localhost:8080/"
        },
        "id": "5pr_OtdH4XHS",
        "outputId": "1b39ab2f-3942-4111-e4c7-e13122606a54"
      },
      "source": [
        "!kaggle datasets download -d ashydv/advertising-dataset"
      ],
      "execution_count": 2,
      "outputs": [
        {
          "output_type": "stream",
          "text": [
            "Downloading advertising-dataset.zip to /content\n",
            "\r  0% 0.00/1.83k [00:00<?, ?B/s]\n",
            "\r100% 1.83k/1.83k [00:00<00:00, 3.57MB/s]\n"
          ],
          "name": "stdout"
        }
      ]
    },
    {
      "cell_type": "markdown",
      "metadata": {
        "id": "LRZT7pTeAwun"
      },
      "source": [
        "데이터셋 압축 해제"
      ]
    },
    {
      "cell_type": "code",
      "metadata": {
        "colab": {
          "base_uri": "https://localhost:8080/"
        },
        "id": "NrPmd4LwAf7B",
        "outputId": "b37bce57-77ba-4918-b3ce-74e7e49f27ef"
      },
      "source": [
        "!unzip /content/advertising-dataset.zip"
      ],
      "execution_count": 3,
      "outputs": [
        {
          "output_type": "stream",
          "text": [
            "Archive:  /content/advertising-dataset.zip\n",
            "  inflating: advertising.csv         \n"
          ],
          "name": "stdout"
        }
      ]
    },
    {
      "cell_type": "markdown",
      "metadata": {
        "id": "NOfVzLpuN69u"
      },
      "source": [
        "##  광고 데이터 예측 (Single-variable linear regression)\n",
        "\n",
        "TV 광고 금액으로 Sales 예측하기"
      ]
    },
    {
      "cell_type": "code",
      "metadata": {
        "id": "ksVdzcqqN0wX"
      },
      "source": [
        "# 기본적으로 계속 사용\n",
        "from tensorflow.keras.models import Sequential\n",
        "from tensorflow.keras.layers import Dense\n",
        "from tensorflow.keras.optimizers import Adam, SGD\n",
        "import numpy as np\n",
        "\n",
        "# skleaern 머신러닝을 도와주는 package\n",
        "# train_test: training set // test set 분리해준다\n",
        "import pandas as pd\n",
        "import matplotlib.pyplot as plt \n",
        "import seaborn as sns\n",
        "from sklearn.model_selection import train_test_split"
      ],
      "execution_count": 4,
      "outputs": []
    },
    {
      "cell_type": "markdown",
      "metadata": {
        "id": "Up2hzeoQYP4p"
      },
      "source": [
        "### 데이터셋 로드"
      ]
    },
    {
      "cell_type": "code",
      "metadata": {
        "colab": {
          "base_uri": "https://localhost:8080/",
          "height": 203
        },
        "id": "cEpSXjHLOMSl",
        "outputId": "35e61991-48b9-4560-919e-c026b263ffe1"
      },
      "source": [
        "# 데이터셋이 어떻게 생겼는지 살펴봄... 습관화\n",
        "df = pd.read_csv('advertising.csv')\n",
        "df.head(5)"
      ],
      "execution_count": 5,
      "outputs": [
        {
          "output_type": "execute_result",
          "data": {
            "text/html": [
              "<div>\n",
              "<style scoped>\n",
              "    .dataframe tbody tr th:only-of-type {\n",
              "        vertical-align: middle;\n",
              "    }\n",
              "\n",
              "    .dataframe tbody tr th {\n",
              "        vertical-align: top;\n",
              "    }\n",
              "\n",
              "    .dataframe thead th {\n",
              "        text-align: right;\n",
              "    }\n",
              "</style>\n",
              "<table border=\"1\" class=\"dataframe\">\n",
              "  <thead>\n",
              "    <tr style=\"text-align: right;\">\n",
              "      <th></th>\n",
              "      <th>TV</th>\n",
              "      <th>Radio</th>\n",
              "      <th>Newspaper</th>\n",
              "      <th>Sales</th>\n",
              "    </tr>\n",
              "  </thead>\n",
              "  <tbody>\n",
              "    <tr>\n",
              "      <th>0</th>\n",
              "      <td>230.1</td>\n",
              "      <td>37.8</td>\n",
              "      <td>69.2</td>\n",
              "      <td>22.1</td>\n",
              "    </tr>\n",
              "    <tr>\n",
              "      <th>1</th>\n",
              "      <td>44.5</td>\n",
              "      <td>39.3</td>\n",
              "      <td>45.1</td>\n",
              "      <td>10.4</td>\n",
              "    </tr>\n",
              "    <tr>\n",
              "      <th>2</th>\n",
              "      <td>17.2</td>\n",
              "      <td>45.9</td>\n",
              "      <td>69.3</td>\n",
              "      <td>12.0</td>\n",
              "    </tr>\n",
              "    <tr>\n",
              "      <th>3</th>\n",
              "      <td>151.5</td>\n",
              "      <td>41.3</td>\n",
              "      <td>58.5</td>\n",
              "      <td>16.5</td>\n",
              "    </tr>\n",
              "    <tr>\n",
              "      <th>4</th>\n",
              "      <td>180.8</td>\n",
              "      <td>10.8</td>\n",
              "      <td>58.4</td>\n",
              "      <td>17.9</td>\n",
              "    </tr>\n",
              "  </tbody>\n",
              "</table>\n",
              "</div>"
            ],
            "text/plain": [
              "      TV  Radio  Newspaper  Sales\n",
              "0  230.1   37.8       69.2   22.1\n",
              "1   44.5   39.3       45.1   10.4\n",
              "2   17.2   45.9       69.3   12.0\n",
              "3  151.5   41.3       58.5   16.5\n",
              "4  180.8   10.8       58.4   17.9"
            ]
          },
          "metadata": {
            "tags": []
          },
          "execution_count": 5
        }
      ]
    },
    {
      "cell_type": "markdown",
      "metadata": {
        "id": "pYgVoNAhYSTz"
      },
      "source": [
        "### 데이터셋 크기 살펴보기"
      ]
    },
    {
      "cell_type": "code",
      "metadata": {
        "colab": {
          "base_uri": "https://localhost:8080/"
        },
        "id": "TSBBZ9lRLJLa",
        "outputId": "be07815b-6287-434d-ab5e-708e6d239bcf"
      },
      "source": [
        "# 200줄 4개의 column\n",
        "print(df.shape)"
      ],
      "execution_count": 6,
      "outputs": [
        {
          "output_type": "stream",
          "text": [
            "(200, 4)\n"
          ],
          "name": "stdout"
        }
      ]
    },
    {
      "cell_type": "markdown",
      "metadata": {
        "id": "HRHjsh0xYUjg"
      },
      "source": [
        "### 데이터셋 살짝 살펴보기"
      ]
    },
    {
      "cell_type": "code",
      "metadata": {
        "colab": {
          "base_uri": "https://localhost:8080/",
          "height": 246
        },
        "id": "spTnCen_WKdY",
        "outputId": "c31c1d80-505c-43db-81d9-9d4d76038335"
      },
      "source": [
        "# df통채로 넣고 sales와 관련있는 데이터 중 보고 싶은 column 만!  \n",
        "sns.pairplot(df, x_vars=['TV', 'Newspaper', 'Radio'], y_vars=['Sales'], height=4)"
      ],
      "execution_count": 7,
      "outputs": [
        {
          "output_type": "execute_result",
          "data": {
            "text/plain": [
              "<seaborn.axisgrid.PairGrid at 0x7ff15b03e2d0>"
            ]
          },
          "metadata": {
            "tags": []
          },
          "execution_count": 7
        },
        {
          "output_type": "display_data",
          "data": {
            "image/png": "[encoded data removed]",
            "text/plain": [
              "<Figure size 864x288 with 3 Axes>"
            ]
          },
          "metadata": {
            "tags": [],
            "needs_background": "light"
          }
        }
      ]
    },
    {
      "cell_type": "markdown",
      "metadata": {
        "id": "jmvXlwj1aED2"
      },
      "source": [
        "### 데이터셋 가공"
      ]
    },
    {
      "cell_type": "code",
      "metadata": {
        "colab": {
          "base_uri": "https://localhost:8080/"
        },
        "id": "d8k2hvaeaSFz",
        "outputId": "637bbc38-9138-4424-dcdc-c98680d47db8"
      },
      "source": [
        "# keras는 numpy array로 바꿔준 데이터만 취급하니까\n",
        "# np.array로 바꿔준다\n",
        "x_data = np.array(df[['TV']], dtype=np.float32)\n",
        "y_data = np.array(df['Sales'], dtype=np.float32)\n",
        "\n",
        "# y_data가 200, 로 x_data와 맞지 않는다\n",
        "print(x_data.shape)\n",
        "print(y_data.shape)"
      ],
      "execution_count": 8,
      "outputs": [
        {
          "output_type": "stream",
          "text": [
            "(200, 1)\n",
            "(200,)\n"
          ],
          "name": "stdout"
        }
      ]
    },
    {
      "cell_type": "code",
      "metadata": {
        "colab": {
          "base_uri": "https://localhost:8080/"
        },
        "id": "ddaacFAiaHHD",
        "outputId": "f4bb4a1d-f7c7-479f-b003-61abf3484d71"
      },
      "source": [
        "# 200, 1로 맞춘다\n",
        "# 이렇게 reshape을 해야 keras가 이해하기 편하다\n",
        "x_data = x_data.reshape((-1, 1))\n",
        "y_data = y_data.reshape((-1, 1))\n",
        "\n",
        "print(x_data.shape)\n",
        "print(y_data.shape)"
      ],
      "execution_count": 9,
      "outputs": [
        {
          "output_type": "stream",
          "text": [
            "(200, 1)\n",
            "(200, 1)\n"
          ],
          "name": "stdout"
        }
      ]
    },
    {
      "cell_type": "markdown",
      "metadata": {
        "id": "ghw_Bg0pYZEz"
      },
      "source": [
        "### 데이터셋 분할\n",
        "\n",
        "학습 데이터 80%: traning set   \n",
        "검증 데이터 20%: validation set   \n",
        "\n",
        "참고) 강의에서는 편의를 위해 테스트 데이터를 나누지 않았습니다. 실무에서는 꼭 학습/검증/테시트 데이터를 나누는 것 잊지마세요!"
      ]
    },
    {
      "cell_type": "code",
      "metadata": {
        "colab": {
          "base_uri": "https://localhost:8080/"
        },
        "id": "TwfkqScaW48i",
        "outputId": "10857fbd-b6b2-41cd-f44c-30380bf177e5"
      },
      "source": [
        "# test_size=0.2: 20%, 나머진 80%로 쓴다\n",
        "x_train, x_val, y_train, y_val = train_test_split(x_data, y_data, test_size=0.2, random_state=2021)\n",
        "\n",
        "# traning data는 160개\n",
        "# validation data는 40개로 한다.\n",
        "print(x_train.shape, x_val.shape)\n",
        "print(y_train.shape, y_val.shape)"
      ],
      "execution_count": 10,
      "outputs": [
        {
          "output_type": "stream",
          "text": [
            "(160, 1) (40, 1)\n",
            "(160, 1) (40, 1)\n"
          ],
          "name": "stdout"
        }
      ]
    },
    {
      "cell_type": "markdown",
      "metadata": {
        "id": "t3EsOEewbKEr"
      },
      "source": [
        "### 학습"
      ]
    },
    {
      "cell_type": "code",
      "metadata": {
        "colab": {
          "base_uri": "https://localhost:8080/"
        },
        "id": "e3pCXpbJYJ_I",
        "outputId": "9ed2f1b3-b230-40af-87ce-70aa89ef1617"
      },
      "source": [
        "model = Sequential([\n",
        "  Dense(1)\n",
        "])\n",
        "\n",
        "# Adam: 좀 더 성능이 좋은 optimizer. 묻따ㄴㄴ\n",
        "model.compile(loss='mean_squared_error', optimizer=Adam(lr=0.1))\n",
        "\n",
        "model.fit(\n",
        "    x_train,\n",
        "    y_train,\n",
        "    validation_data=(x_val, y_val), \n",
        "    # 검증 데이터를 넣어주면 한 epoch이 끝날때마다 자동으로 검증된 결과를 보여준다.\n",
        "    epochs=100 # epochs 복수형으로 쓰기!\n",
        ")"
      ],
      "execution_count": 11,
      "outputs": [
        {
          "output_type": "stream",
          "text": [
            "/usr/local/lib/python3.7/dist-packages/tensorflow/python/keras/optimizer_v2/optimizer_v2.py:375: UserWarning: The `lr` argument is deprecated, use `learning_rate` instead.\n",
            "  \"The `lr` argument is deprecated, use `learning_rate` instead.\")\n"
          ],
          "name": "stderr"
        },
        {
          "output_type": "stream",
          "text": [
            "Epoch 1/100\n",
            "5/5 [==============================] - 1s 36ms/step - loss: 7857.4438 - val_loss: 1586.8904\n",
            "Epoch 2/100\n",
            "5/5 [==============================] - 0s 7ms/step - loss: 528.5839 - val_loss: 745.3546\n",
            "Epoch 3/100\n",
            "5/5 [==============================] - 0s 6ms/step - loss: 1383.8658 - val_loss: 1939.3704\n",
            "Epoch 4/100\n",
            "5/5 [==============================] - 0s 6ms/step - loss: 1328.8693 - val_loss: 521.1108\n",
            "Epoch 5/100\n",
            "5/5 [==============================] - 0s 7ms/step - loss: 178.2937 - val_loss: 62.8175\n",
            "Epoch 6/100\n",
            "5/5 [==============================] - 0s 7ms/step - loss: 222.2669 - val_loss: 407.9418\n",
            "Epoch 7/100\n",
            "5/5 [==============================] - 0s 7ms/step - loss: 292.0508 - val_loss: 151.8688\n",
            "Epoch 8/100\n",
            "5/5 [==============================] - 0s 6ms/step - loss: 59.4009 - val_loss: 28.3424\n",
            "Epoch 9/100\n",
            "5/5 [==============================] - 0s 7ms/step - loss: 56.5845 - val_loss: 91.2027\n",
            "Epoch 10/100\n",
            "5/5 [==============================] - 0s 7ms/step - loss: 72.8279 - val_loss: 39.3598\n",
            "Epoch 11/100\n",
            "5/5 [==============================] - 0s 7ms/step - loss: 25.1104 - val_loss: 29.6354\n",
            "Epoch 12/100\n",
            "5/5 [==============================] - 0s 7ms/step - loss: 30.9235 - val_loss: 44.7599\n",
            "Epoch 13/100\n",
            "5/5 [==============================] - 0s 7ms/step - loss: 28.9264 - val_loss: 23.7730\n",
            "Epoch 14/100\n",
            "5/5 [==============================] - 0s 7ms/step - loss: 20.2165 - val_loss: 24.4689\n",
            "Epoch 15/100\n",
            "5/5 [==============================] - 0s 7ms/step - loss: 22.4671 - val_loss: 22.8013\n",
            "Epoch 16/100\n",
            "5/5 [==============================] - 0s 6ms/step - loss: 18.8449 - val_loss: 22.4721\n",
            "Epoch 17/100\n",
            "5/5 [==============================] - 0s 10ms/step - loss: 19.2529 - val_loss: 24.3240\n",
            "Epoch 18/100\n",
            "5/5 [==============================] - 0s 7ms/step - loss: 18.4260 - val_loss: 21.2444\n",
            "Epoch 19/100\n",
            "5/5 [==============================] - 0s 7ms/step - loss: 17.5286 - val_loss: 20.8376\n",
            "Epoch 20/100\n",
            "5/5 [==============================] - 0s 7ms/step - loss: 17.7451 - val_loss: 20.6373\n",
            "Epoch 21/100\n",
            "5/5 [==============================] - 0s 7ms/step - loss: 17.1218 - val_loss: 20.8408\n",
            "Epoch 22/100\n",
            "5/5 [==============================] - 0s 8ms/step - loss: 17.2128 - val_loss: 21.1645\n",
            "Epoch 23/100\n",
            "5/5 [==============================] - 0s 7ms/step - loss: 17.0272 - val_loss: 20.4047\n",
            "Epoch 24/100\n",
            "5/5 [==============================] - 0s 7ms/step - loss: 16.7421 - val_loss: 19.9333\n",
            "Epoch 25/100\n",
            "5/5 [==============================] - 0s 7ms/step - loss: 16.7154 - val_loss: 19.8253\n",
            "Epoch 26/100\n",
            "5/5 [==============================] - 0s 7ms/step - loss: 16.4858 - val_loss: 19.7958\n",
            "Epoch 27/100\n",
            "5/5 [==============================] - 0s 8ms/step - loss: 16.3432 - val_loss: 19.5630\n",
            "Epoch 28/100\n",
            "5/5 [==============================] - 0s 8ms/step - loss: 16.1589 - val_loss: 19.3733\n",
            "Epoch 29/100\n",
            "5/5 [==============================] - 0s 7ms/step - loss: 16.2334 - val_loss: 19.3780\n",
            "Epoch 30/100\n",
            "5/5 [==============================] - 0s 7ms/step - loss: 15.8743 - val_loss: 18.8019\n",
            "Epoch 31/100\n",
            "5/5 [==============================] - 0s 9ms/step - loss: 15.7894 - val_loss: 18.6219\n",
            "Epoch 32/100\n",
            "5/5 [==============================] - 0s 8ms/step - loss: 15.5451 - val_loss: 18.7138\n",
            "Epoch 33/100\n",
            "5/5 [==============================] - 0s 6ms/step - loss: 15.4535 - val_loss: 18.6324\n",
            "Epoch 34/100\n",
            "5/5 [==============================] - 0s 7ms/step - loss: 15.2511 - val_loss: 18.1746\n",
            "Epoch 35/100\n",
            "5/5 [==============================] - 0s 7ms/step - loss: 15.2468 - val_loss: 17.8403\n",
            "Epoch 36/100\n",
            "5/5 [==============================] - 0s 7ms/step - loss: 14.9683 - val_loss: 17.9390\n",
            "Epoch 37/100\n",
            "5/5 [==============================] - 0s 8ms/step - loss: 14.9235 - val_loss: 17.8149\n",
            "Epoch 38/100\n",
            "5/5 [==============================] - 0s 6ms/step - loss: 14.6677 - val_loss: 17.3124\n",
            "Epoch 39/100\n",
            "5/5 [==============================] - 0s 6ms/step - loss: 14.4575 - val_loss: 17.2069\n",
            "Epoch 40/100\n",
            "5/5 [==============================] - 0s 9ms/step - loss: 14.3355 - val_loss: 17.0907\n",
            "Epoch 41/100\n",
            "5/5 [==============================] - 0s 7ms/step - loss: 14.2292 - val_loss: 16.8191\n",
            "Epoch 42/100\n",
            "5/5 [==============================] - 0s 8ms/step - loss: 14.1220 - val_loss: 16.5316\n",
            "Epoch 43/100\n",
            "5/5 [==============================] - 0s 7ms/step - loss: 13.7834 - val_loss: 16.5335\n",
            "Epoch 44/100\n",
            "5/5 [==============================] - 0s 10ms/step - loss: 13.6638 - val_loss: 16.5061\n",
            "Epoch 45/100\n",
            "5/5 [==============================] - 0s 12ms/step - loss: 13.6361 - val_loss: 15.9936\n",
            "Epoch 46/100\n",
            "5/5 [==============================] - 0s 7ms/step - loss: 13.4843 - val_loss: 15.7829\n",
            "Epoch 47/100\n",
            "5/5 [==============================] - 0s 7ms/step - loss: 13.5237 - val_loss: 16.2098\n",
            "Epoch 48/100\n",
            "5/5 [==============================] - 0s 7ms/step - loss: 13.0821 - val_loss: 15.4209\n",
            "Epoch 49/100\n",
            "5/5 [==============================] - 0s 7ms/step - loss: 12.9819 - val_loss: 15.2322\n",
            "Epoch 50/100\n",
            "5/5 [==============================] - 0s 7ms/step - loss: 12.8009 - val_loss: 15.2013\n",
            "Epoch 51/100\n",
            "5/5 [==============================] - 0s 8ms/step - loss: 12.7595 - val_loss: 14.9204\n",
            "Epoch 52/100\n",
            "5/5 [==============================] - 0s 6ms/step - loss: 12.4795 - val_loss: 14.9194\n",
            "Epoch 53/100\n",
            "5/5 [==============================] - 0s 8ms/step - loss: 12.4953 - val_loss: 14.5182\n",
            "Epoch 54/100\n",
            "5/5 [==============================] - 0s 7ms/step - loss: 12.2616 - val_loss: 14.4083\n",
            "Epoch 55/100\n",
            "5/5 [==============================] - 0s 8ms/step - loss: 12.2459 - val_loss: 14.5351\n",
            "Epoch 56/100\n",
            "5/5 [==============================] - 0s 9ms/step - loss: 12.3438 - val_loss: 13.9739\n",
            "Epoch 57/100\n",
            "5/5 [==============================] - 0s 9ms/step - loss: 12.0364 - val_loss: 14.4577\n",
            "Epoch 58/100\n",
            "5/5 [==============================] - 0s 9ms/step - loss: 11.7782 - val_loss: 13.8364\n",
            "Epoch 59/100\n",
            "5/5 [==============================] - 0s 7ms/step - loss: 11.8930 - val_loss: 13.5197\n",
            "Epoch 60/100\n",
            "5/5 [==============================] - 0s 8ms/step - loss: 11.3857 - val_loss: 13.6766\n",
            "Epoch 61/100\n",
            "5/5 [==============================] - 0s 8ms/step - loss: 11.3861 - val_loss: 13.3763\n",
            "Epoch 62/100\n",
            "5/5 [==============================] - 0s 8ms/step - loss: 11.3003 - val_loss: 12.9909\n",
            "Epoch 63/100\n",
            "5/5 [==============================] - 0s 7ms/step - loss: 10.9646 - val_loss: 13.0397\n",
            "Epoch 64/100\n",
            "5/5 [==============================] - 0s 7ms/step - loss: 11.1507 - val_loss: 13.1454\n",
            "Epoch 65/100\n",
            "5/5 [==============================] - 0s 8ms/step - loss: 10.6588 - val_loss: 12.5189\n",
            "Epoch 66/100\n",
            "5/5 [==============================] - 0s 7ms/step - loss: 10.6684 - val_loss: 12.3927\n",
            "Epoch 67/100\n",
            "5/5 [==============================] - 0s 7ms/step - loss: 10.4580 - val_loss: 12.3432\n",
            "Epoch 68/100\n",
            "5/5 [==============================] - 0s 7ms/step - loss: 10.3431 - val_loss: 12.1633\n",
            "Epoch 69/100\n",
            "5/5 [==============================] - 0s 8ms/step - loss: 10.2450 - val_loss: 12.0562\n",
            "Epoch 70/100\n",
            "5/5 [==============================] - 0s 10ms/step - loss: 10.2194 - val_loss: 12.0563\n",
            "Epoch 71/100\n",
            "5/5 [==============================] - 0s 8ms/step - loss: 9.9528 - val_loss: 11.6427\n",
            "Epoch 72/100\n",
            "5/5 [==============================] - 0s 11ms/step - loss: 9.9409 - val_loss: 11.5210\n",
            "Epoch 73/100\n",
            "5/5 [==============================] - 0s 7ms/step - loss: 10.0252 - val_loss: 11.8179\n",
            "Epoch 74/100\n",
            "5/5 [==============================] - 0s 7ms/step - loss: 9.6787 - val_loss: 11.2422\n",
            "Epoch 75/100\n",
            "5/5 [==============================] - 0s 8ms/step - loss: 9.6918 - val_loss: 11.1924\n",
            "Epoch 76/100\n",
            "5/5 [==============================] - 0s 6ms/step - loss: 9.5739 - val_loss: 11.0614\n",
            "Epoch 77/100\n",
            "5/5 [==============================] - 0s 9ms/step - loss: 9.4610 - val_loss: 10.8481\n",
            "Epoch 78/100\n",
            "5/5 [==============================] - 0s 8ms/step - loss: 9.2834 - val_loss: 11.0321\n",
            "Epoch 79/100\n",
            "5/5 [==============================] - 0s 6ms/step - loss: 9.1897 - val_loss: 10.6974\n",
            "Epoch 80/100\n",
            "5/5 [==============================] - 0s 7ms/step - loss: 9.3560 - val_loss: 10.5176\n",
            "Epoch 81/100\n",
            "5/5 [==============================] - 0s 7ms/step - loss: 8.8613 - val_loss: 10.7582\n",
            "Epoch 82/100\n",
            "5/5 [==============================] - 0s 8ms/step - loss: 9.0524 - val_loss: 10.3114\n",
            "Epoch 83/100\n",
            "5/5 [==============================] - 0s 7ms/step - loss: 8.8006 - val_loss: 10.1346\n",
            "Epoch 84/100\n",
            "5/5 [==============================] - 0s 8ms/step - loss: 8.7698 - val_loss: 9.9841\n",
            "Epoch 85/100\n",
            "5/5 [==============================] - 0s 7ms/step - loss: 8.6298 - val_loss: 10.1987\n",
            "Epoch 86/100\n",
            "5/5 [==============================] - 0s 7ms/step - loss: 8.8228 - val_loss: 9.7683\n",
            "Epoch 87/100\n",
            "5/5 [==============================] - 0s 8ms/step - loss: 8.4128 - val_loss: 9.8203\n",
            "Epoch 88/100\n",
            "5/5 [==============================] - 0s 8ms/step - loss: 8.2973 - val_loss: 9.6087\n",
            "Epoch 89/100\n",
            "5/5 [==============================] - 0s 8ms/step - loss: 8.2145 - val_loss: 9.4452\n",
            "Epoch 90/100\n",
            "5/5 [==============================] - 0s 8ms/step - loss: 8.1585 - val_loss: 9.4210\n",
            "Epoch 91/100\n",
            "5/5 [==============================] - 0s 7ms/step - loss: 8.2227 - val_loss: 9.3276\n",
            "Epoch 92/100\n",
            "5/5 [==============================] - 0s 6ms/step - loss: 8.0654 - val_loss: 9.1462\n",
            "Epoch 93/100\n",
            "5/5 [==============================] - 0s 8ms/step - loss: 7.9095 - val_loss: 9.2104\n",
            "Epoch 94/100\n",
            "5/5 [==============================] - 0s 8ms/step - loss: 7.9188 - val_loss: 9.1108\n",
            "Epoch 95/100\n",
            "5/5 [==============================] - 0s 8ms/step - loss: 7.7593 - val_loss: 8.8729\n",
            "Epoch 96/100\n",
            "5/5 [==============================] - 0s 7ms/step - loss: 7.7279 - val_loss: 8.8400\n",
            "Epoch 97/100\n",
            "5/5 [==============================] - 0s 8ms/step - loss: 7.6244 - val_loss: 8.7227\n",
            "Epoch 98/100\n",
            "5/5 [==============================] - 0s 9ms/step - loss: 7.5044 - val_loss: 8.6761\n",
            "Epoch 99/100\n",
            "5/5 [==============================] - 0s 7ms/step - loss: 7.5166 - val_loss: 8.5972\n",
            "Epoch 100/100\n",
            "5/5 [==============================] - 0s 7ms/step - loss: 7.3878 - val_loss: 8.4360\n"
          ],
          "name": "stdout"
        },
        {
          "output_type": "execute_result",
          "data": {
            "text/plain": [
              "<tensorflow.python.keras.callbacks.History at 0x7ff14d6ab710>"
            ]
          },
          "metadata": {
            "tags": []
          },
          "execution_count": 11
        }
      ]
    },
    {
      "cell_type": "markdown",
      "metadata": {
        "id": "cl7D4qePcLz6"
      },
      "source": [
        "### 검증 데이터로 예측하기"
      ]
    },
    {
      "cell_type": "code",
      "metadata": {
        "colab": {
          "base_uri": "https://localhost:8080/",
          "height": 265
        },
        "id": "DSDFaX_ZcKDQ",
        "outputId": "63e3f8bc-5494-4501-d8ca-13b4c943b0d7"
      },
      "source": [
        "y_pred = model.predict(x_val)\n",
        "\n",
        "# scatter: 점찍기\n",
        "# 예측값은 red로 그린다. \n",
        "plt.scatter(x_val, y_val)\n",
        "plt.scatter(x_val, y_pred, color='r')\n",
        "plt.show()"
      ],
      "execution_count": null,
      "outputs": [
        {
          "output_type": "display_data",
          "data": {
            "image/png": "[encoded data removed]",
            "text/plain": [
              "<Figure size 432x288 with 1 Axes>"
            ]
          },
          "metadata": {
            "tags": [],
            "needs_background": "light"
          }
        }
      ]
    },
    {
      "cell_type": "markdown",
      "metadata": {
        "id": "X5mgiMiCyVPI"
      },
      "source": [
        "## 광고 데이터 예측하기 (Multi-variable linear regression)\n",
        "\n",
        "TV, Newspaper, Radio 광고 금액으로 Sales 예측하기"
      ]
    },
    {
      "cell_type": "code",
      "metadata": {
        "colab": {
          "base_uri": "https://localhost:8080/"
        },
        "id": "-QHEaAyIZTHn",
        "outputId": "dfdf5175-c1a4-48f4-fa73-aade13b3a6bb"
      },
      "source": [
        "from tensorflow.keras.models import Sequential\n",
        "from tensorflow.keras.layers import Dense\n",
        "from tensorflow.keras.optimizers import Adam, SGD\n",
        "import numpy as np\n",
        "import pandas as pd\n",
        "import matplotlib.pyplot as plt \n",
        "import seaborn as sns\n",
        "from sklearn.model_selection import train_test_split\n",
        "\n",
        "df = pd.read_csv('advertising.csv')\n",
        "\n",
        "# 한꺼번에 x_data에 넣어준다\n",
        "x_data = np.array(df[['TV', 'Newspaper', 'Radio']], dtype=np.float32)\n",
        "y_data = np.array(df['Sales'], dtype=np.float32)\n",
        "\n",
        "# x_data만 -1,3이 됨. 비교할 데이터가 3개니깐\n",
        "x_data = x_data.reshape((-1, 3))\n",
        "y_data = y_data.reshape((-1, 1))\n",
        "\n",
        "print(x_data.shape)\n",
        "print(y_data.shape)\n",
        "\n",
        "# train_test_split으로 training set과 validation set을 나눈다\n",
        "x_train, x_val, y_train, y_val = train_test_split(x_data, y_data, test_size=0.2, random_state=2021)\n",
        "\n",
        "print(x_train.shape, x_val.shape)\n",
        "print(y_train.shape, y_val.shape)\n",
        "\n",
        "model = Sequential([\n",
        "  Dense(1)\n",
        "])\n",
        "\n",
        "model.compile(loss='mean_squared_error', optimizer=Adam(lr=0.1))\n",
        "\n",
        "model.fit(\n",
        "    x_train,\n",
        "    y_train,\n",
        "    validation_data=(x_val, y_val), # 검증 데이터를 넣어주면 한 epoch이 끝날때마다 자동으로 검증\n",
        "    epochs=100 # epochs 복수형으로 쓰기!\n",
        ")"
      ],
      "execution_count": 12,
      "outputs": [
        {
          "output_type": "stream",
          "text": [
            "(200, 3)\n",
            "(200, 1)\n",
            "(160, 3) (40, 3)\n",
            "(160, 1) (40, 1)\n",
            "Epoch 1/100\n"
          ],
          "name": "stdout"
        },
        {
          "output_type": "stream",
          "text": [
            "/usr/local/lib/python3.7/dist-packages/tensorflow/python/keras/optimizer_v2/optimizer_v2.py:375: UserWarning: The `lr` argument is deprecated, use `learning_rate` instead.\n",
            "  \"The `lr` argument is deprecated, use `learning_rate` instead.\")\n"
          ],
          "name": "stderr"
        },
        {
          "output_type": "stream",
          "text": [
            "5/5 [==============================] - 0s 27ms/step - loss: 10246.8545 - val_loss: 3293.2234\n",
            "Epoch 2/100\n",
            "5/5 [==============================] - 0s 7ms/step - loss: 2942.3792 - val_loss: 2736.8777\n",
            "Epoch 3/100\n",
            "5/5 [==============================] - 0s 6ms/step - loss: 3253.4814 - val_loss: 1975.8590\n",
            "Epoch 4/100\n",
            "5/5 [==============================] - 0s 8ms/step - loss: 1724.4613 - val_loss: 686.6664\n",
            "Epoch 5/100\n",
            "5/5 [==============================] - 0s 9ms/step - loss: 655.3567 - val_loss: 699.8718\n",
            "Epoch 6/100\n",
            "5/5 [==============================] - 0s 6ms/step - loss: 553.3856 - val_loss: 399.1053\n",
            "Epoch 7/100\n",
            "5/5 [==============================] - 0s 7ms/step - loss: 186.3817 - val_loss: 45.5615\n",
            "Epoch 8/100\n",
            "5/5 [==============================] - 0s 8ms/step - loss: 58.8303 - val_loss: 90.1175\n",
            "Epoch 9/100\n",
            "5/5 [==============================] - 0s 8ms/step - loss: 75.0300 - val_loss: 31.3682\n",
            "Epoch 10/100\n",
            "5/5 [==============================] - 0s 7ms/step - loss: 16.0330 - val_loss: 22.9370\n",
            "Epoch 11/100\n",
            "5/5 [==============================] - 0s 7ms/step - loss: 31.4111 - val_loss: 32.7269\n",
            "Epoch 12/100\n",
            "5/5 [==============================] - 0s 8ms/step - loss: 23.3987 - val_loss: 19.6678\n",
            "Epoch 13/100\n",
            "5/5 [==============================] - 0s 12ms/step - loss: 17.2373 - val_loss: 25.6503\n",
            "Epoch 14/100\n",
            "5/5 [==============================] - 0s 6ms/step - loss: 15.8216 - val_loss: 14.2364\n",
            "Epoch 15/100\n",
            "5/5 [==============================] - 0s 8ms/step - loss: 8.3664 - val_loss: 10.8122\n",
            "Epoch 16/100\n",
            "5/5 [==============================] - 0s 7ms/step - loss: 7.7219 - val_loss: 8.6966\n",
            "Epoch 17/100\n",
            "5/5 [==============================] - 0s 7ms/step - loss: 5.3190 - val_loss: 8.1029\n",
            "Epoch 18/100\n",
            "5/5 [==============================] - 0s 8ms/step - loss: 5.4353 - val_loss: 7.9041\n",
            "Epoch 19/100\n",
            "5/5 [==============================] - 0s 8ms/step - loss: 5.1144 - val_loss: 7.4784\n",
            "Epoch 20/100\n",
            "5/5 [==============================] - 0s 7ms/step - loss: 5.3214 - val_loss: 7.6928\n",
            "Epoch 21/100\n",
            "5/5 [==============================] - 0s 8ms/step - loss: 5.1449 - val_loss: 7.4515\n",
            "Epoch 22/100\n",
            "5/5 [==============================] - 0s 9ms/step - loss: 5.0742 - val_loss: 7.5489\n",
            "Epoch 23/100\n",
            "5/5 [==============================] - 0s 7ms/step - loss: 4.9012 - val_loss: 7.4073\n",
            "Epoch 24/100\n",
            "5/5 [==============================] - 0s 7ms/step - loss: 4.8618 - val_loss: 7.4284\n",
            "Epoch 25/100\n",
            "5/5 [==============================] - 0s 7ms/step - loss: 4.8293 - val_loss: 7.4479\n",
            "Epoch 26/100\n",
            "5/5 [==============================] - 0s 8ms/step - loss: 4.8816 - val_loss: 7.5137\n",
            "Epoch 27/100\n",
            "5/5 [==============================] - 0s 8ms/step - loss: 4.8445 - val_loss: 7.4231\n",
            "Epoch 28/100\n",
            "5/5 [==============================] - 0s 6ms/step - loss: 4.7948 - val_loss: 7.3668\n",
            "Epoch 29/100\n",
            "5/5 [==============================] - 0s 7ms/step - loss: 4.7168 - val_loss: 7.3916\n",
            "Epoch 30/100\n",
            "5/5 [==============================] - 0s 7ms/step - loss: 4.7449 - val_loss: 7.3063\n",
            "Epoch 31/100\n",
            "5/5 [==============================] - 0s 11ms/step - loss: 4.7680 - val_loss: 7.2435\n",
            "Epoch 32/100\n",
            "5/5 [==============================] - 0s 7ms/step - loss: 4.7476 - val_loss: 7.2716\n",
            "Epoch 33/100\n",
            "5/5 [==============================] - 0s 7ms/step - loss: 4.7172 - val_loss: 7.2010\n",
            "Epoch 34/100\n",
            "5/5 [==============================] - 0s 8ms/step - loss: 4.6606 - val_loss: 7.2237\n",
            "Epoch 35/100\n",
            "5/5 [==============================] - 0s 7ms/step - loss: 4.6528 - val_loss: 7.1612\n",
            "Epoch 36/100\n",
            "5/5 [==============================] - 0s 7ms/step - loss: 4.6037 - val_loss: 7.1644\n",
            "Epoch 37/100\n",
            "5/5 [==============================] - 0s 9ms/step - loss: 4.6413 - val_loss: 7.1216\n",
            "Epoch 38/100\n",
            "5/5 [==============================] - 0s 9ms/step - loss: 4.5461 - val_loss: 7.0586\n",
            "Epoch 39/100\n",
            "5/5 [==============================] - 0s 8ms/step - loss: 4.6947 - val_loss: 7.0212\n",
            "Epoch 40/100\n",
            "5/5 [==============================] - 0s 7ms/step - loss: 5.0536 - val_loss: 7.3617\n",
            "Epoch 41/100\n",
            "5/5 [==============================] - 0s 9ms/step - loss: 4.4797 - val_loss: 7.0410\n",
            "Epoch 42/100\n",
            "5/5 [==============================] - 0s 7ms/step - loss: 4.6624 - val_loss: 6.9410\n",
            "Epoch 43/100\n",
            "5/5 [==============================] - 0s 7ms/step - loss: 4.5179 - val_loss: 6.9963\n",
            "Epoch 44/100\n",
            "5/5 [==============================] - 0s 7ms/step - loss: 4.4886 - val_loss: 6.8732\n",
            "Epoch 45/100\n",
            "5/5 [==============================] - 0s 7ms/step - loss: 4.5483 - val_loss: 6.8909\n",
            "Epoch 46/100\n",
            "5/5 [==============================] - 0s 7ms/step - loss: 4.4257 - val_loss: 6.9296\n",
            "Epoch 47/100\n",
            "5/5 [==============================] - 0s 7ms/step - loss: 4.4857 - val_loss: 6.7903\n",
            "Epoch 48/100\n",
            "5/5 [==============================] - 0s 8ms/step - loss: 4.3713 - val_loss: 6.7663\n",
            "Epoch 49/100\n",
            "5/5 [==============================] - 0s 8ms/step - loss: 4.3686 - val_loss: 6.7229\n",
            "Epoch 50/100\n",
            "5/5 [==============================] - 0s 8ms/step - loss: 4.3211 - val_loss: 6.7138\n",
            "Epoch 51/100\n",
            "5/5 [==============================] - 0s 8ms/step - loss: 4.3509 - val_loss: 6.6568\n",
            "Epoch 52/100\n",
            "5/5 [==============================] - 0s 7ms/step - loss: 4.2820 - val_loss: 6.6768\n",
            "Epoch 53/100\n",
            "5/5 [==============================] - 0s 7ms/step - loss: 4.2748 - val_loss: 6.6073\n",
            "Epoch 54/100\n",
            "5/5 [==============================] - 0s 13ms/step - loss: 4.2682 - val_loss: 6.6072\n",
            "Epoch 55/100\n",
            "5/5 [==============================] - 0s 7ms/step - loss: 4.2601 - val_loss: 6.5546\n",
            "Epoch 56/100\n",
            "5/5 [==============================] - 0s 7ms/step - loss: 4.2365 - val_loss: 6.5767\n",
            "Epoch 57/100\n",
            "5/5 [==============================] - 0s 8ms/step - loss: 4.1988 - val_loss: 6.4772\n",
            "Epoch 58/100\n",
            "5/5 [==============================] - 0s 9ms/step - loss: 4.1836 - val_loss: 6.4336\n",
            "Epoch 59/100\n",
            "5/5 [==============================] - 0s 6ms/step - loss: 4.1544 - val_loss: 6.4023\n",
            "Epoch 60/100\n",
            "5/5 [==============================] - 0s 8ms/step - loss: 4.1227 - val_loss: 6.3993\n",
            "Epoch 61/100\n",
            "5/5 [==============================] - 0s 7ms/step - loss: 4.1050 - val_loss: 6.3721\n",
            "Epoch 62/100\n",
            "5/5 [==============================] - 0s 8ms/step - loss: 4.0784 - val_loss: 6.3485\n",
            "Epoch 63/100\n",
            "5/5 [==============================] - 0s 7ms/step - loss: 4.1398 - val_loss: 6.3239\n",
            "Epoch 64/100\n",
            "5/5 [==============================] - 0s 7ms/step - loss: 4.0767 - val_loss: 6.3133\n",
            "Epoch 65/100\n",
            "5/5 [==============================] - 0s 6ms/step - loss: 4.0678 - val_loss: 6.2425\n",
            "Epoch 66/100\n",
            "5/5 [==============================] - 0s 7ms/step - loss: 4.1104 - val_loss: 6.2125\n",
            "Epoch 67/100\n",
            "5/5 [==============================] - 0s 10ms/step - loss: 3.9926 - val_loss: 6.2432\n",
            "Epoch 68/100\n",
            "5/5 [==============================] - 0s 9ms/step - loss: 3.9966 - val_loss: 6.1653\n",
            "Epoch 69/100\n",
            "5/5 [==============================] - 0s 7ms/step - loss: 3.9552 - val_loss: 6.1249\n",
            "Epoch 70/100\n",
            "5/5 [==============================] - 0s 8ms/step - loss: 3.9669 - val_loss: 6.1167\n",
            "Epoch 71/100\n",
            "5/5 [==============================] - 0s 7ms/step - loss: 3.9209 - val_loss: 6.0672\n",
            "Epoch 72/100\n",
            "5/5 [==============================] - 0s 7ms/step - loss: 3.9203 - val_loss: 6.0275\n",
            "Epoch 73/100\n",
            "5/5 [==============================] - 0s 8ms/step - loss: 3.8670 - val_loss: 6.0064\n",
            "Epoch 74/100\n",
            "5/5 [==============================] - 0s 8ms/step - loss: 3.8524 - val_loss: 6.0071\n",
            "Epoch 75/100\n",
            "5/5 [==============================] - 0s 7ms/step - loss: 3.8233 - val_loss: 5.9723\n",
            "Epoch 76/100\n",
            "5/5 [==============================] - 0s 7ms/step - loss: 3.9404 - val_loss: 5.9340\n",
            "Epoch 77/100\n",
            "5/5 [==============================] - 0s 8ms/step - loss: 3.8997 - val_loss: 6.0018\n",
            "Epoch 78/100\n",
            "5/5 [==============================] - 0s 8ms/step - loss: 3.8101 - val_loss: 5.8881\n",
            "Epoch 79/100\n",
            "5/5 [==============================] - 0s 8ms/step - loss: 3.8334 - val_loss: 5.8659\n",
            "Epoch 80/100\n",
            "5/5 [==============================] - 0s 8ms/step - loss: 3.8374 - val_loss: 5.8241\n",
            "Epoch 81/100\n",
            "5/5 [==============================] - 0s 8ms/step - loss: 3.8259 - val_loss: 5.8327\n",
            "Epoch 82/100\n",
            "5/5 [==============================] - 0s 8ms/step - loss: 3.7547 - val_loss: 5.7656\n",
            "Epoch 83/100\n",
            "5/5 [==============================] - 0s 8ms/step - loss: 3.6977 - val_loss: 5.7358\n",
            "Epoch 84/100\n",
            "5/5 [==============================] - 0s 9ms/step - loss: 3.7613 - val_loss: 5.7180\n",
            "Epoch 85/100\n",
            "5/5 [==============================] - 0s 9ms/step - loss: 3.9187 - val_loss: 5.7663\n",
            "Epoch 86/100\n",
            "5/5 [==============================] - 0s 8ms/step - loss: 3.8589 - val_loss: 6.0103\n",
            "Epoch 87/100\n",
            "5/5 [==============================] - 0s 8ms/step - loss: 3.7212 - val_loss: 5.7057\n",
            "Epoch 88/100\n",
            "5/5 [==============================] - 0s 8ms/step - loss: 3.6561 - val_loss: 5.6097\n",
            "Epoch 89/100\n",
            "5/5 [==============================] - 0s 7ms/step - loss: 3.6228 - val_loss: 5.5535\n",
            "Epoch 90/100\n",
            "5/5 [==============================] - 0s 8ms/step - loss: 3.5452 - val_loss: 5.5328\n",
            "Epoch 91/100\n",
            "5/5 [==============================] - 0s 7ms/step - loss: 3.6361 - val_loss: 5.5067\n",
            "Epoch 92/100\n",
            "5/5 [==============================] - 0s 6ms/step - loss: 3.5383 - val_loss: 5.5600\n",
            "Epoch 93/100\n",
            "5/5 [==============================] - 0s 7ms/step - loss: 3.5539 - val_loss: 5.4858\n",
            "Epoch 94/100\n",
            "5/5 [==============================] - 0s 7ms/step - loss: 3.5004 - val_loss: 5.4856\n",
            "Epoch 95/100\n",
            "5/5 [==============================] - 0s 7ms/step - loss: 3.5146 - val_loss: 5.4219\n",
            "Epoch 96/100\n",
            "5/5 [==============================] - 0s 7ms/step - loss: 3.4982 - val_loss: 5.4016\n",
            "Epoch 97/100\n",
            "5/5 [==============================] - 0s 7ms/step - loss: 3.4528 - val_loss: 5.3767\n",
            "Epoch 98/100\n",
            "5/5 [==============================] - 0s 8ms/step - loss: 3.4896 - val_loss: 5.3489\n",
            "Epoch 99/100\n",
            "5/5 [==============================] - 0s 7ms/step - loss: 3.4384 - val_loss: 5.3121\n",
            "Epoch 100/100\n",
            "5/5 [==============================] - 0s 7ms/step - loss: 3.4794 - val_loss: 5.3269\n"
          ],
          "name": "stdout"
        },
        {
          "output_type": "execute_result",
          "data": {
            "text/plain": [
              "<tensorflow.python.keras.callbacks.History at 0x7ff14b4582d0>"
            ]
          },
          "metadata": {
            "tags": []
          },
          "execution_count": 12
        }
      ]
    },
    {
      "cell_type": "code",
      "metadata": {
        "colab": {
          "base_uri": "https://localhost:8080/"
        },
        "id": "-v5iXZoUe0AO",
        "outputId": "b6fa0ddd-1c6d-4f46-970d-048c213fc05d"
      },
      "source": [
        "y_pred = model.predict(x_val)\n",
        "\n",
        "print(y_pred.shape)"
      ],
      "execution_count": 13,
      "outputs": [
        {
          "output_type": "stream",
          "text": [
            "(40, 1)\n"
          ],
          "name": "stdout"
        }
      ]
    },
    {
      "cell_type": "markdown",
      "metadata": {
        "id": "m1lZi6pshMEj"
      },
      "source": [
        "## TV 데이터 예측 그래프"
      ]
    },
    {
      "cell_type": "code",
      "metadata": {
        "colab": {
          "base_uri": "https://localhost:8080/",
          "height": 265
        },
        "id": "kHC3fszphZLT",
        "outputId": "20a23766-d2a7-4d43-a601-14c8a281a43a"
      },
      "source": [
        "# x_val[:,0] x의 validation data의 첫번 째 데이터와 Sales의 그래프를 그려본다\n",
        "plt.scatter(x_val[:, 0], y_val)\n",
        "plt.scatter(x_val[:, 0], y_pred, color='r')\n",
        "plt.show()"
      ],
      "execution_count": 14,
      "outputs": [
        {
          "output_type": "display_data",
          "data": {
            "image/png": "[encoded data removed]",
            "text/plain": [
              "<Figure size 432x288 with 1 Axes>"
            ]
          },
          "metadata": {
            "tags": [],
            "needs_background": "light"
          }
        }
      ]
    },
    {
      "cell_type": "markdown",
      "metadata": {
        "id": "cZfBsfSbhPN4"
      },
      "source": [
        "## Newspaper 데이터 예측 그래프"
      ]
    },
    {
      "cell_type": "code",
      "metadata": {
        "colab": {
          "base_uri": "https://localhost:8080/",
          "height": 265
        },
        "id": "TPsCzdPshBVU",
        "outputId": "d1f05e0a-63c7-4fe1-b2c6-204b4ac30e40"
      },
      "source": [
        "plt.scatter(x_val[:, 1], y_val)\n",
        "plt.scatter(x_val[:, 1], y_pred, color='r')\n",
        "plt.show()"
      ],
      "execution_count": null,
      "outputs": [
        {
          "output_type": "display_data",
          "data": {
            "image/png": "[encoded data removed]",
            "text/plain": [
              "<Figure size 432x288 with 1 Axes>"
            ]
          },
          "metadata": {
            "tags": [],
            "needs_background": "light"
          }
        }
      ]
    },
    {
      "cell_type": "markdown",
      "metadata": {
        "id": "vjR5zH3gme5P"
      },
      "source": [
        "### Radio 데이터 예측 그래프"
      ]
    },
    {
      "cell_type": "code",
      "metadata": {
        "colab": {
          "base_uri": "https://localhost:8080/",
          "height": 265
        },
        "id": "yxcB-JEmhIcO",
        "outputId": "64de4170-fb69-4aca-a0b9-242a02262f7d"
      },
      "source": [
        "plt.scatter(x_val[:, 2], y_val)\n",
        "plt.scatter(x_val[:, 2], y_pred, color='r')\n",
        "plt.show()"
      ],
      "execution_count": null,
      "outputs": [
        {
          "output_type": "display_data",
          "data": {
            "image/png": "[encoded data removed]",
            "text/plain": [
              "<Figure size 432x288 with 1 Axes>"
            ]
          },
          "metadata": {
            "tags": [],
            "needs_background": "light"
          }
        }
      ]
    },
    {
      "cell_type": "code",
      "metadata": {
        "id": "g3hH1c-kmhSz"
      },
      "source": [
        ""
      ],
      "execution_count": null,
      "outputs": []
    }
  ]
}
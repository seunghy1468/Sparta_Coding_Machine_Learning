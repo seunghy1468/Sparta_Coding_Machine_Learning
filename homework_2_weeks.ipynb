{
  "nbformat": 4,
  "nbformat_minor": 0,
  "metadata": {
    "colab": {
      "name": "homework 2 weeks.ipynb",
      "provenance": [],
      "collapsed_sections": [],
      "authorship_tag": "ABX9TyN6d3224LBc2sAHpJPMuqKb",
      "include_colab_link": true
    },
    "kernelspec": {
      "name": "python3",
      "display_name": "Python 3"
    },
    "language_info": {
      "name": "python"
    }
  },
  "cells": [
    {
      "cell_type": "markdown",
      "metadata": {
        "id": "view-in-github",
        "colab_type": "text"
      },
      "source": [
        "<a href=\"https://colab.research.google.com/github/seunghy1468/Sparta_Coding_Machine_Learning/blob/main/homework_2_weeks.ipynb\" target=\"_parent\"><img src=\"https://colab.research.google.com/assets/colab-badge.svg\" alt=\"Open In Colab\"/></a>"
      ]
    },
    {
      "cell_type": "code",
      "metadata": {
        "colab": {
          "base_uri": "https://localhost:8080/"
        },
        "id": "I7K57gssZ-Wj",
        "outputId": "f7e50d7c-487a-48cd-efef-c16f93d73082"
      },
      "source": [
        "# homework 2 weeks \n",
        "# 이진논리회귀\n",
        "# 연령, 혈압, 인슐린수치 등으로 당뇨병 진단 예측 모델\n",
        "# outcome: y (0, 1), 나머지: x\n",
        "\n",
        "import os\n",
        "os.environ['KAGGLE_USERNAME'] = ''                # username\n",
        "os.environ['KAGGLE_KEY'] = ''                     # key\n",
        "\n",
        "!kaggle datasets download -d kandij/diabetes-dataset\n",
        "!unzip diabetes-dataset.zip\n",
        "\n",
        "from tensorflow.keras.models import Sequential\n",
        "from tensorflow.keras.layers import Dense\n",
        "from tensorflow.keras.optimizers import Adam, SGD\n",
        "import numpy as np\n",
        "import pandas as pd\n",
        "import matplotlib.pyplot as plt\n",
        "import seaborn as sns\n",
        "from sklearn.model_selection import train_test_split\n",
        "from sklearn.preprocessing import StandardScaler"
      ],
      "execution_count": 1,
      "outputs": [
        {
          "output_type": "stream",
          "text": [
            "Downloading diabetes-dataset.zip to /content\n",
            "\r  0% 0.00/8.92k [00:00<?, ?B/s]\n",
            "\r100% 8.92k/8.92k [00:00<00:00, 15.9MB/s]\n",
            "Archive:  diabetes-dataset.zip\n",
            "  inflating: diabetes2.csv           \n"
          ],
          "name": "stdout"
        }
      ]
    },
    {
      "cell_type": "code",
      "metadata": {
        "colab": {
          "base_uri": "https://localhost:8080/",
          "height": 195
        },
        "id": "LG5Q1ayQcAWO",
        "outputId": "5fcf923d-4315-473c-a350-529d37ab02b8"
      },
      "source": [
        "df = pd.read_csv('diabetes2.csv')\n",
        "df.tail(5)"
      ],
      "execution_count": 2,
      "outputs": [
        {
          "output_type": "execute_result",
          "data": {
            "text/html": [
              "<div>\n",
              "<style scoped>\n",
              "    .dataframe tbody tr th:only-of-type {\n",
              "        vertical-align: middle;\n",
              "    }\n",
              "\n",
              "    .dataframe tbody tr th {\n",
              "        vertical-align: top;\n",
              "    }\n",
              "\n",
              "    .dataframe thead th {\n",
              "        text-align: right;\n",
              "    }\n",
              "</style>\n",
              "<table border=\"1\" class=\"dataframe\">\n",
              "  <thead>\n",
              "    <tr style=\"text-align: right;\">\n",
              "      <th></th>\n",
              "      <th>Pregnancies</th>\n",
              "      <th>Glucose</th>\n",
              "      <th>BloodPressure</th>\n",
              "      <th>SkinThickness</th>\n",
              "      <th>Insulin</th>\n",
              "      <th>BMI</th>\n",
              "      <th>DiabetesPedigreeFunction</th>\n",
              "      <th>Age</th>\n",
              "      <th>Outcome</th>\n",
              "    </tr>\n",
              "  </thead>\n",
              "  <tbody>\n",
              "    <tr>\n",
              "      <th>763</th>\n",
              "      <td>10</td>\n",
              "      <td>101</td>\n",
              "      <td>76</td>\n",
              "      <td>48</td>\n",
              "      <td>180</td>\n",
              "      <td>32.9</td>\n",
              "      <td>0.171</td>\n",
              "      <td>63</td>\n",
              "      <td>0</td>\n",
              "    </tr>\n",
              "    <tr>\n",
              "      <th>764</th>\n",
              "      <td>2</td>\n",
              "      <td>122</td>\n",
              "      <td>70</td>\n",
              "      <td>27</td>\n",
              "      <td>0</td>\n",
              "      <td>36.8</td>\n",
              "      <td>0.340</td>\n",
              "      <td>27</td>\n",
              "      <td>0</td>\n",
              "    </tr>\n",
              "    <tr>\n",
              "      <th>765</th>\n",
              "      <td>5</td>\n",
              "      <td>121</td>\n",
              "      <td>72</td>\n",
              "      <td>23</td>\n",
              "      <td>112</td>\n",
              "      <td>26.2</td>\n",
              "      <td>0.245</td>\n",
              "      <td>30</td>\n",
              "      <td>0</td>\n",
              "    </tr>\n",
              "    <tr>\n",
              "      <th>766</th>\n",
              "      <td>1</td>\n",
              "      <td>126</td>\n",
              "      <td>60</td>\n",
              "      <td>0</td>\n",
              "      <td>0</td>\n",
              "      <td>30.1</td>\n",
              "      <td>0.349</td>\n",
              "      <td>47</td>\n",
              "      <td>1</td>\n",
              "    </tr>\n",
              "    <tr>\n",
              "      <th>767</th>\n",
              "      <td>1</td>\n",
              "      <td>93</td>\n",
              "      <td>70</td>\n",
              "      <td>31</td>\n",
              "      <td>0</td>\n",
              "      <td>30.4</td>\n",
              "      <td>0.315</td>\n",
              "      <td>23</td>\n",
              "      <td>0</td>\n",
              "    </tr>\n",
              "  </tbody>\n",
              "</table>\n",
              "</div>"
            ],
            "text/plain": [
              "     Pregnancies  Glucose  ...  Age  Outcome\n",
              "763           10      101  ...   63        0\n",
              "764            2      122  ...   27        0\n",
              "765            5      121  ...   30        0\n",
              "766            1      126  ...   47        1\n",
              "767            1       93  ...   23        0\n",
              "\n",
              "[5 rows x 9 columns]"
            ]
          },
          "metadata": {
            "tags": []
          },
          "execution_count": 2
        }
      ]
    },
    {
      "cell_type": "code",
      "metadata": {
        "colab": {
          "base_uri": "https://localhost:8080/",
          "height": 297
        },
        "id": "f8kx9zITcQkh",
        "outputId": "e87a76a4-f17c-48d5-9f02-78d80d33ae4f"
      },
      "source": [
        "# insulin = 0일 경우, 당뇨병일 확률이 매우 높음 (당뇨병 x: 0, 당뇨병: 1)\n",
        "sns.countplot(x='Insulin', hue='Outcome', data=df)"
      ],
      "execution_count": 25,
      "outputs": [
        {
          "output_type": "execute_result",
          "data": {
            "text/plain": [
              "<matplotlib.axes._subplots.AxesSubplot at 0x7fe77e4bf490>"
            ]
          },
          "metadata": {
            "tags": []
          },
          "execution_count": 25
        },
        {
          "output_type": "display_data",
          "data": {
            "image/png": "[encoded data removed]",
            "text/plain": [
              "<Figure size 432x288 with 1 Axes>"
            ]
          },
          "metadata": {
            "tags": [],
            "needs_background": "light"
          }
        }
      ]
    },
    {
      "cell_type": "code",
      "metadata": {
        "colab": {
          "base_uri": "https://localhost:8080/"
        },
        "id": "YMVIyghEc2zt",
        "outputId": "7af1c9c4-7df6-4b81-e127-bc9bc341822a"
      },
      "source": [
        "# 전처리\n",
        "# 1.비어있는 행 있는지 확인\n",
        "print(df.isnull().sum())"
      ],
      "execution_count": 8,
      "outputs": [
        {
          "output_type": "stream",
          "text": [
            "Pregnancies                 0\n",
            "Glucose                     0\n",
            "BloodPressure               0\n",
            "SkinThickness               0\n",
            "Insulin                     0\n",
            "BMI                         0\n",
            "DiabetesPedigreeFunction    0\n",
            "Age                         0\n",
            "Outcome                     0\n",
            "dtype: int64\n"
          ],
          "name": "stdout"
        }
      ]
    },
    {
      "cell_type": "code",
      "metadata": {
        "id": "OInjAbs9h877"
      },
      "source": [
        ""
      ],
      "execution_count": null,
      "outputs": []
    },
    {
      "cell_type": "code",
      "metadata": {
        "colab": {
          "base_uri": "https://localhost:8080/",
          "height": 195
        },
        "id": "-duO1q05eG3_",
        "outputId": "cb766a8b-12db-4b38-85de-b4a2973347ba"
      },
      "source": [
        "x_data = df.drop(columns=['Outcome'], axis=1)\n",
        "x_data = x_data.astype(np.float32)\n",
        "x_data.head(5)"
      ],
      "execution_count": 12,
      "outputs": [
        {
          "output_type": "execute_result",
          "data": {
            "text/html": [
              "<div>\n",
              "<style scoped>\n",
              "    .dataframe tbody tr th:only-of-type {\n",
              "        vertical-align: middle;\n",
              "    }\n",
              "\n",
              "    .dataframe tbody tr th {\n",
              "        vertical-align: top;\n",
              "    }\n",
              "\n",
              "    .dataframe thead th {\n",
              "        text-align: right;\n",
              "    }\n",
              "</style>\n",
              "<table border=\"1\" class=\"dataframe\">\n",
              "  <thead>\n",
              "    <tr style=\"text-align: right;\">\n",
              "      <th></th>\n",
              "      <th>Pregnancies</th>\n",
              "      <th>Glucose</th>\n",
              "      <th>BloodPressure</th>\n",
              "      <th>SkinThickness</th>\n",
              "      <th>Insulin</th>\n",
              "      <th>BMI</th>\n",
              "      <th>DiabetesPedigreeFunction</th>\n",
              "      <th>Age</th>\n",
              "    </tr>\n",
              "  </thead>\n",
              "  <tbody>\n",
              "    <tr>\n",
              "      <th>0</th>\n",
              "      <td>6.0</td>\n",
              "      <td>148.0</td>\n",
              "      <td>72.0</td>\n",
              "      <td>35.0</td>\n",
              "      <td>0.0</td>\n",
              "      <td>33.599998</td>\n",
              "      <td>0.627</td>\n",
              "      <td>50.0</td>\n",
              "    </tr>\n",
              "    <tr>\n",
              "      <th>1</th>\n",
              "      <td>1.0</td>\n",
              "      <td>85.0</td>\n",
              "      <td>66.0</td>\n",
              "      <td>29.0</td>\n",
              "      <td>0.0</td>\n",
              "      <td>26.600000</td>\n",
              "      <td>0.351</td>\n",
              "      <td>31.0</td>\n",
              "    </tr>\n",
              "    <tr>\n",
              "      <th>2</th>\n",
              "      <td>8.0</td>\n",
              "      <td>183.0</td>\n",
              "      <td>64.0</td>\n",
              "      <td>0.0</td>\n",
              "      <td>0.0</td>\n",
              "      <td>23.299999</td>\n",
              "      <td>0.672</td>\n",
              "      <td>32.0</td>\n",
              "    </tr>\n",
              "    <tr>\n",
              "      <th>3</th>\n",
              "      <td>1.0</td>\n",
              "      <td>89.0</td>\n",
              "      <td>66.0</td>\n",
              "      <td>23.0</td>\n",
              "      <td>94.0</td>\n",
              "      <td>28.100000</td>\n",
              "      <td>0.167</td>\n",
              "      <td>21.0</td>\n",
              "    </tr>\n",
              "    <tr>\n",
              "      <th>4</th>\n",
              "      <td>0.0</td>\n",
              "      <td>137.0</td>\n",
              "      <td>40.0</td>\n",
              "      <td>35.0</td>\n",
              "      <td>168.0</td>\n",
              "      <td>43.099998</td>\n",
              "      <td>2.288</td>\n",
              "      <td>33.0</td>\n",
              "    </tr>\n",
              "  </tbody>\n",
              "</table>\n",
              "</div>"
            ],
            "text/plain": [
              "   Pregnancies  Glucose  ...  DiabetesPedigreeFunction   Age\n",
              "0          6.0    148.0  ...                     0.627  50.0\n",
              "1          1.0     85.0  ...                     0.351  31.0\n",
              "2          8.0    183.0  ...                     0.672  32.0\n",
              "3          1.0     89.0  ...                     0.167  21.0\n",
              "4          0.0    137.0  ...                     2.288  33.0\n",
              "\n",
              "[5 rows x 8 columns]"
            ]
          },
          "metadata": {
            "tags": []
          },
          "execution_count": 12
        }
      ]
    },
    {
      "cell_type": "code",
      "metadata": {
        "colab": {
          "base_uri": "https://localhost:8080/",
          "height": 195
        },
        "id": "9WekH7VEeZyU",
        "outputId": "df35c153-a203-4a52-f713-454af97b564b"
      },
      "source": [
        "y_data = df[['Outcome']]\n",
        "y_data = y_data.astype(np.float32)\n",
        "y_data.head(5)"
      ],
      "execution_count": 13,
      "outputs": [
        {
          "output_type": "execute_result",
          "data": {
            "text/html": [
              "<div>\n",
              "<style scoped>\n",
              "    .dataframe tbody tr th:only-of-type {\n",
              "        vertical-align: middle;\n",
              "    }\n",
              "\n",
              "    .dataframe tbody tr th {\n",
              "        vertical-align: top;\n",
              "    }\n",
              "\n",
              "    .dataframe thead th {\n",
              "        text-align: right;\n",
              "    }\n",
              "</style>\n",
              "<table border=\"1\" class=\"dataframe\">\n",
              "  <thead>\n",
              "    <tr style=\"text-align: right;\">\n",
              "      <th></th>\n",
              "      <th>Outcome</th>\n",
              "    </tr>\n",
              "  </thead>\n",
              "  <tbody>\n",
              "    <tr>\n",
              "      <th>0</th>\n",
              "      <td>1.0</td>\n",
              "    </tr>\n",
              "    <tr>\n",
              "      <th>1</th>\n",
              "      <td>0.0</td>\n",
              "    </tr>\n",
              "    <tr>\n",
              "      <th>2</th>\n",
              "      <td>1.0</td>\n",
              "    </tr>\n",
              "    <tr>\n",
              "      <th>3</th>\n",
              "      <td>0.0</td>\n",
              "    </tr>\n",
              "    <tr>\n",
              "      <th>4</th>\n",
              "      <td>1.0</td>\n",
              "    </tr>\n",
              "  </tbody>\n",
              "</table>\n",
              "</div>"
            ],
            "text/plain": [
              "   Outcome\n",
              "0      1.0\n",
              "1      0.0\n",
              "2      1.0\n",
              "3      0.0\n",
              "4      1.0"
            ]
          },
          "metadata": {
            "tags": []
          },
          "execution_count": 13
        }
      ]
    },
    {
      "cell_type": "code",
      "metadata": {
        "colab": {
          "base_uri": "https://localhost:8080/"
        },
        "id": "G2HvtJGGed9q",
        "outputId": "9bc18261-40cc-443c-90e5-9f17eb844e50"
      },
      "source": [
        "# 표준화\n",
        "\n",
        "scaler = StandardScaler()\n",
        "# x data의 단위가 다 다르니까 표준화 한다.\n",
        "x_data_scaled = scaler.fit_transform(x_data)\n",
        "\n",
        "# 표준화 전과 후 비교\n",
        "print(x_data.values[0])\n",
        "print(x_data_scaled[0])"
      ],
      "execution_count": 14,
      "outputs": [
        {
          "output_type": "stream",
          "text": [
            "[  6.    148.     72.     35.      0.     33.6     0.627  50.   ]\n",
            "[ 0.6399473   0.8483238   0.14964075  0.90726995 -0.6928905   0.20401257\n",
            "  0.46849188  1.4259955 ]\n"
          ],
          "name": "stdout"
        }
      ]
    },
    {
      "cell_type": "code",
      "metadata": {
        "colab": {
          "base_uri": "https://localhost:8080/"
        },
        "id": "_r0j3Y8Te2Wa",
        "outputId": "8eba9a28-6ffa-44b4-deda-4b25a0624214"
      },
      "source": [
        "# 반드시 학습 데이터와 검증 데이터 분할해야함\n",
        "# 학습: 80%, 검증 20%\n",
        "x_train, x_val, y_train, y_val = train_test_split(x_data, y_data, test_size=0.2, random_state=2021)\n",
        "\n",
        "# 학습 데이터 개수: 614, 검증 데이터 개수: 8, features: 8, outcome: 1\n",
        "print(x_train.shape, x_val.shape)\n",
        "print(y_train.shape, y_val.shape)"
      ],
      "execution_count": 15,
      "outputs": [
        {
          "output_type": "stream",
          "text": [
            "(614, 8) (154, 8)\n",
            "(614, 1) (154, 1)\n"
          ],
          "name": "stdout"
        }
      ]
    },
    {
      "cell_type": "code",
      "metadata": {
        "colab": {
          "base_uri": "https://localhost:8080/"
        },
        "id": "IWt1aCk1e_Yd",
        "outputId": "b5c4c1c5-5b46-40be-af61-f710fead2b6a"
      },
      "source": [
        "# logistic regression에서 sigmoid function 사용\n",
        "\n",
        "model = Sequential([\n",
        "# Dense: linear regression 1번 하고, sigmoid function 해라!\n",
        "  Dense(1, activation='sigmoid')\n",
        "])\n",
        "\n",
        "# 이진논리회귀, metrics: loss값 만 보면 얼마나 학습이 잘 되는지 감이 안온다. 감이 잘 잡히도록 씀.\n",
        "# acc: accuracy (0~1: 1에 가까울수록 정확도 100%)\n",
        "model.compile(loss='binary_crossentropy', optimizer=Adam(lr=0.01), metrics=['acc'])\n",
        "\n",
        "model.fit(\n",
        "    x_train,\n",
        "    y_train,\n",
        "    validation_data=(x_val, y_val),     # 검증 데이터를 넣어주면 한 epoch이 끝날때마다 자동으로 검증\n",
        "    epochs=100                          # epochs 복수형으로 쓰기! (100번 반복학습)\n",
        ")"
      ],
      "execution_count": 24,
      "outputs": [
        {
          "output_type": "stream",
          "text": [
            "/usr/local/lib/python3.7/dist-packages/tensorflow/python/keras/optimizer_v2/optimizer_v2.py:375: UserWarning: The `lr` argument is deprecated, use `learning_rate` instead.\n",
            "  \"The `lr` argument is deprecated, use `learning_rate` instead.\")\n"
          ],
          "name": "stderr"
        },
        {
          "output_type": "stream",
          "text": [
            "Epoch 1/100\n",
            "20/20 [==============================] - 0s 9ms/step - loss: 9.8089 - acc: 0.5130 - val_loss: 8.0499 - val_acc: 0.4091\n",
            "Epoch 2/100\n",
            "20/20 [==============================] - 0s 3ms/step - loss: 7.8544 - acc: 0.4267 - val_loss: 6.6849 - val_acc: 0.4481\n",
            "Epoch 3/100\n",
            "20/20 [==============================] - 0s 2ms/step - loss: 6.2780 - acc: 0.4967 - val_loss: 5.4380 - val_acc: 0.4221\n",
            "Epoch 4/100\n",
            "20/20 [==============================] - 0s 3ms/step - loss: 5.0086 - acc: 0.4902 - val_loss: 4.2066 - val_acc: 0.4740\n",
            "Epoch 5/100\n",
            "20/20 [==============================] - 0s 2ms/step - loss: 4.0013 - acc: 0.4658 - val_loss: 3.7005 - val_acc: 0.5519\n",
            "Epoch 6/100\n",
            "20/20 [==============================] - 0s 3ms/step - loss: 3.3086 - acc: 0.5016 - val_loss: 2.5827 - val_acc: 0.5000\n",
            "Epoch 7/100\n",
            "20/20 [==============================] - 0s 2ms/step - loss: 2.5089 - acc: 0.5114 - val_loss: 2.1429 - val_acc: 0.5130\n",
            "Epoch 8/100\n",
            "20/20 [==============================] - 0s 2ms/step - loss: 2.0658 - acc: 0.5212 - val_loss: 1.9749 - val_acc: 0.5779\n",
            "Epoch 9/100\n",
            "20/20 [==============================] - 0s 3ms/step - loss: 1.6752 - acc: 0.5765 - val_loss: 1.5363 - val_acc: 0.5649\n",
            "Epoch 10/100\n",
            "20/20 [==============================] - 0s 2ms/step - loss: 1.5258 - acc: 0.5407 - val_loss: 1.5900 - val_acc: 0.6169\n",
            "Epoch 11/100\n",
            "20/20 [==============================] - 0s 3ms/step - loss: 1.3718 - acc: 0.5814 - val_loss: 1.5238 - val_acc: 0.5455\n",
            "Epoch 12/100\n",
            "20/20 [==============================] - 0s 3ms/step - loss: 1.4252 - acc: 0.5733 - val_loss: 1.1700 - val_acc: 0.5714\n",
            "Epoch 13/100\n",
            "20/20 [==============================] - 0s 2ms/step - loss: 1.0398 - acc: 0.6303 - val_loss: 1.0965 - val_acc: 0.6299\n",
            "Epoch 14/100\n",
            "20/20 [==============================] - 0s 2ms/step - loss: 0.8836 - acc: 0.6319 - val_loss: 0.9542 - val_acc: 0.6234\n",
            "Epoch 15/100\n",
            "20/20 [==============================] - 0s 2ms/step - loss: 0.8231 - acc: 0.6336 - val_loss: 0.8120 - val_acc: 0.6429\n",
            "Epoch 16/100\n",
            "20/20 [==============================] - 0s 2ms/step - loss: 0.7208 - acc: 0.6466 - val_loss: 0.7614 - val_acc: 0.6364\n",
            "Epoch 17/100\n",
            "20/20 [==============================] - 0s 3ms/step - loss: 0.7096 - acc: 0.6547 - val_loss: 0.7446 - val_acc: 0.6104\n",
            "Epoch 18/100\n",
            "20/20 [==============================] - 0s 2ms/step - loss: 0.6528 - acc: 0.6596 - val_loss: 0.9003 - val_acc: 0.6234\n",
            "Epoch 19/100\n",
            "20/20 [==============================] - 0s 3ms/step - loss: 0.8476 - acc: 0.6205 - val_loss: 0.7049 - val_acc: 0.6623\n",
            "Epoch 20/100\n",
            "20/20 [==============================] - 0s 2ms/step - loss: 0.6914 - acc: 0.6384 - val_loss: 0.6815 - val_acc: 0.6429\n",
            "Epoch 21/100\n",
            "20/20 [==============================] - 0s 2ms/step - loss: 0.6821 - acc: 0.6270 - val_loss: 0.7849 - val_acc: 0.6299\n",
            "Epoch 22/100\n",
            "20/20 [==============================] - 0s 2ms/step - loss: 0.6747 - acc: 0.6564 - val_loss: 0.9803 - val_acc: 0.6234\n",
            "Epoch 23/100\n",
            "20/20 [==============================] - 0s 2ms/step - loss: 0.7775 - acc: 0.6238 - val_loss: 0.6341 - val_acc: 0.6494\n",
            "Epoch 24/100\n",
            "20/20 [==============================] - 0s 2ms/step - loss: 0.5979 - acc: 0.6987 - val_loss: 0.6151 - val_acc: 0.6558\n",
            "Epoch 25/100\n",
            "20/20 [==============================] - 0s 2ms/step - loss: 0.6493 - acc: 0.6726 - val_loss: 0.6781 - val_acc: 0.6299\n",
            "Epoch 26/100\n",
            "20/20 [==============================] - 0s 3ms/step - loss: 0.6646 - acc: 0.6596 - val_loss: 0.6832 - val_acc: 0.6494\n",
            "Epoch 27/100\n",
            "20/20 [==============================] - 0s 2ms/step - loss: 0.6046 - acc: 0.6873 - val_loss: 0.6974 - val_acc: 0.6299\n",
            "Epoch 28/100\n",
            "20/20 [==============================] - 0s 3ms/step - loss: 0.6260 - acc: 0.6792 - val_loss: 0.7904 - val_acc: 0.6364\n",
            "Epoch 29/100\n",
            "20/20 [==============================] - 0s 3ms/step - loss: 0.6265 - acc: 0.7020 - val_loss: 0.6149 - val_acc: 0.6623\n",
            "Epoch 30/100\n",
            "20/20 [==============================] - 0s 2ms/step - loss: 0.6163 - acc: 0.6743 - val_loss: 0.6350 - val_acc: 0.6688\n",
            "Epoch 31/100\n",
            "20/20 [==============================] - 0s 2ms/step - loss: 0.6717 - acc: 0.6417 - val_loss: 0.6166 - val_acc: 0.6558\n",
            "Epoch 32/100\n",
            "20/20 [==============================] - 0s 2ms/step - loss: 0.6091 - acc: 0.6792 - val_loss: 0.6336 - val_acc: 0.6623\n",
            "Epoch 33/100\n",
            "20/20 [==============================] - 0s 3ms/step - loss: 0.5944 - acc: 0.6954 - val_loss: 0.6007 - val_acc: 0.7208\n",
            "Epoch 34/100\n",
            "20/20 [==============================] - 0s 2ms/step - loss: 0.6591 - acc: 0.6678 - val_loss: 0.6622 - val_acc: 0.6299\n",
            "Epoch 35/100\n",
            "20/20 [==============================] - 0s 2ms/step - loss: 0.6795 - acc: 0.6515 - val_loss: 0.6653 - val_acc: 0.6104\n",
            "Epoch 36/100\n",
            "20/20 [==============================] - 0s 3ms/step - loss: 0.6578 - acc: 0.6840 - val_loss: 0.6386 - val_acc: 0.6429\n",
            "Epoch 37/100\n",
            "20/20 [==============================] - 0s 2ms/step - loss: 0.6248 - acc: 0.6954 - val_loss: 0.6340 - val_acc: 0.6429\n",
            "Epoch 38/100\n",
            "20/20 [==============================] - 0s 2ms/step - loss: 0.6342 - acc: 0.6922 - val_loss: 0.6681 - val_acc: 0.6234\n",
            "Epoch 39/100\n",
            "20/20 [==============================] - 0s 2ms/step - loss: 0.5985 - acc: 0.7068 - val_loss: 0.6027 - val_acc: 0.7143\n",
            "Epoch 40/100\n",
            "20/20 [==============================] - 0s 2ms/step - loss: 0.6271 - acc: 0.6726 - val_loss: 0.6623 - val_acc: 0.6558\n",
            "Epoch 41/100\n",
            "20/20 [==============================] - 0s 2ms/step - loss: 0.5908 - acc: 0.7264 - val_loss: 0.7260 - val_acc: 0.6364\n",
            "Epoch 42/100\n",
            "20/20 [==============================] - 0s 2ms/step - loss: 0.5989 - acc: 0.6873 - val_loss: 0.7061 - val_acc: 0.6299\n",
            "Epoch 43/100\n",
            "20/20 [==============================] - 0s 2ms/step - loss: 0.5895 - acc: 0.7052 - val_loss: 0.5970 - val_acc: 0.6883\n",
            "Epoch 44/100\n",
            "20/20 [==============================] - 0s 2ms/step - loss: 0.5859 - acc: 0.7117 - val_loss: 0.8082 - val_acc: 0.5779\n",
            "Epoch 45/100\n",
            "20/20 [==============================] - 0s 3ms/step - loss: 0.7460 - acc: 0.6254 - val_loss: 0.6374 - val_acc: 0.6494\n",
            "Epoch 46/100\n",
            "20/20 [==============================] - 0s 3ms/step - loss: 0.6339 - acc: 0.6792 - val_loss: 0.5841 - val_acc: 0.6883\n",
            "Epoch 47/100\n",
            "20/20 [==============================] - 0s 2ms/step - loss: 0.6043 - acc: 0.6873 - val_loss: 0.5965 - val_acc: 0.6688\n",
            "Epoch 48/100\n",
            "20/20 [==============================] - 0s 2ms/step - loss: 0.6127 - acc: 0.7036 - val_loss: 0.5969 - val_acc: 0.7013\n",
            "Epoch 49/100\n",
            "20/20 [==============================] - 0s 3ms/step - loss: 0.5878 - acc: 0.7182 - val_loss: 0.6052 - val_acc: 0.6623\n",
            "Epoch 50/100\n",
            "20/20 [==============================] - 0s 2ms/step - loss: 0.5696 - acc: 0.7150 - val_loss: 0.5901 - val_acc: 0.6688\n",
            "Epoch 51/100\n",
            "20/20 [==============================] - 0s 2ms/step - loss: 0.5683 - acc: 0.7394 - val_loss: 0.6057 - val_acc: 0.6558\n",
            "Epoch 52/100\n",
            "20/20 [==============================] - 0s 2ms/step - loss: 0.6042 - acc: 0.6938 - val_loss: 0.6193 - val_acc: 0.6494\n",
            "Epoch 53/100\n",
            "20/20 [==============================] - 0s 2ms/step - loss: 0.5992 - acc: 0.7166 - val_loss: 0.6176 - val_acc: 0.6558\n",
            "Epoch 54/100\n",
            "20/20 [==============================] - 0s 2ms/step - loss: 0.5882 - acc: 0.7085 - val_loss: 0.6166 - val_acc: 0.6494\n",
            "Epoch 55/100\n",
            "20/20 [==============================] - 0s 2ms/step - loss: 0.6060 - acc: 0.7003 - val_loss: 0.6619 - val_acc: 0.6558\n",
            "Epoch 56/100\n",
            "20/20 [==============================] - 0s 2ms/step - loss: 0.6770 - acc: 0.6596 - val_loss: 0.8233 - val_acc: 0.6364\n",
            "Epoch 57/100\n",
            "20/20 [==============================] - 0s 2ms/step - loss: 0.6238 - acc: 0.6954 - val_loss: 0.6149 - val_acc: 0.6753\n",
            "Epoch 58/100\n",
            "20/20 [==============================] - 0s 2ms/step - loss: 0.6206 - acc: 0.6954 - val_loss: 0.9087 - val_acc: 0.6234\n",
            "Epoch 59/100\n",
            "20/20 [==============================] - 0s 2ms/step - loss: 0.6376 - acc: 0.7068 - val_loss: 0.6264 - val_acc: 0.6558\n",
            "Epoch 60/100\n",
            "20/20 [==============================] - 0s 2ms/step - loss: 0.5674 - acc: 0.7215 - val_loss: 0.8455 - val_acc: 0.6234\n",
            "Epoch 61/100\n",
            "20/20 [==============================] - 0s 2ms/step - loss: 0.6159 - acc: 0.6775 - val_loss: 0.5776 - val_acc: 0.7013\n",
            "Epoch 62/100\n",
            "20/20 [==============================] - 0s 2ms/step - loss: 0.5665 - acc: 0.7199 - val_loss: 0.6197 - val_acc: 0.6623\n",
            "Epoch 63/100\n",
            "20/20 [==============================] - 0s 2ms/step - loss: 0.6550 - acc: 0.6694 - val_loss: 0.6016 - val_acc: 0.6558\n",
            "Epoch 64/100\n",
            "20/20 [==============================] - 0s 2ms/step - loss: 0.6034 - acc: 0.6889 - val_loss: 0.6139 - val_acc: 0.6818\n",
            "Epoch 65/100\n",
            "20/20 [==============================] - 0s 2ms/step - loss: 0.5771 - acc: 0.7313 - val_loss: 0.5841 - val_acc: 0.6494\n",
            "Epoch 66/100\n",
            "20/20 [==============================] - 0s 2ms/step - loss: 0.5632 - acc: 0.7459 - val_loss: 0.5963 - val_acc: 0.6818\n",
            "Epoch 67/100\n",
            "20/20 [==============================] - 0s 2ms/step - loss: 0.5783 - acc: 0.7313 - val_loss: 0.5845 - val_acc: 0.6688\n",
            "Epoch 68/100\n",
            "20/20 [==============================] - 0s 2ms/step - loss: 0.5936 - acc: 0.7036 - val_loss: 0.6629 - val_acc: 0.6623\n",
            "Epoch 69/100\n",
            "20/20 [==============================] - 0s 2ms/step - loss: 0.6017 - acc: 0.7052 - val_loss: 0.6232 - val_acc: 0.6623\n",
            "Epoch 70/100\n",
            "20/20 [==============================] - 0s 2ms/step - loss: 0.6198 - acc: 0.6906 - val_loss: 0.6093 - val_acc: 0.6558\n",
            "Epoch 71/100\n",
            "20/20 [==============================] - 0s 2ms/step - loss: 0.5783 - acc: 0.7329 - val_loss: 0.5886 - val_acc: 0.6688\n",
            "Epoch 72/100\n",
            "20/20 [==============================] - 0s 2ms/step - loss: 0.6534 - acc: 0.6515 - val_loss: 0.5883 - val_acc: 0.6429\n",
            "Epoch 73/100\n",
            "20/20 [==============================] - 0s 3ms/step - loss: 0.5817 - acc: 0.7378 - val_loss: 0.6138 - val_acc: 0.7013\n",
            "Epoch 74/100\n",
            "20/20 [==============================] - 0s 2ms/step - loss: 0.6149 - acc: 0.6824 - val_loss: 0.6922 - val_acc: 0.6429\n",
            "Epoch 75/100\n",
            "20/20 [==============================] - 0s 3ms/step - loss: 0.7429 - acc: 0.6401 - val_loss: 1.1719 - val_acc: 0.4675\n",
            "Epoch 76/100\n",
            "20/20 [==============================] - 0s 2ms/step - loss: 0.7382 - acc: 0.6743 - val_loss: 0.5849 - val_acc: 0.7273\n",
            "Epoch 77/100\n",
            "20/20 [==============================] - 0s 3ms/step - loss: 0.5645 - acc: 0.7264 - val_loss: 0.5966 - val_acc: 0.6883\n",
            "Epoch 78/100\n",
            "20/20 [==============================] - 0s 2ms/step - loss: 0.5661 - acc: 0.7215 - val_loss: 0.5642 - val_acc: 0.7143\n",
            "Epoch 79/100\n",
            "20/20 [==============================] - 0s 2ms/step - loss: 0.5870 - acc: 0.7231 - val_loss: 0.5670 - val_acc: 0.7143\n",
            "Epoch 80/100\n",
            "20/20 [==============================] - 0s 2ms/step - loss: 0.6905 - acc: 0.6515 - val_loss: 0.5758 - val_acc: 0.6818\n",
            "Epoch 81/100\n",
            "20/20 [==============================] - 0s 2ms/step - loss: 0.5991 - acc: 0.6987 - val_loss: 0.5804 - val_acc: 0.6818\n",
            "Epoch 82/100\n",
            "20/20 [==============================] - 0s 2ms/step - loss: 0.5952 - acc: 0.6889 - val_loss: 0.6950 - val_acc: 0.6429\n",
            "Epoch 83/100\n",
            "20/20 [==============================] - 0s 2ms/step - loss: 0.6243 - acc: 0.6922 - val_loss: 0.7931 - val_acc: 0.6299\n",
            "Epoch 84/100\n",
            "20/20 [==============================] - 0s 2ms/step - loss: 0.6501 - acc: 0.6547 - val_loss: 0.8138 - val_acc: 0.6364\n",
            "Epoch 85/100\n",
            "20/20 [==============================] - 0s 2ms/step - loss: 0.5560 - acc: 0.7248 - val_loss: 0.5893 - val_acc: 0.6753\n",
            "Epoch 86/100\n",
            "20/20 [==============================] - 0s 2ms/step - loss: 0.5515 - acc: 0.7427 - val_loss: 0.6188 - val_acc: 0.6818\n",
            "Epoch 87/100\n",
            "20/20 [==============================] - 0s 2ms/step - loss: 0.6516 - acc: 0.6954 - val_loss: 0.7344 - val_acc: 0.6299\n",
            "Epoch 88/100\n",
            "20/20 [==============================] - 0s 2ms/step - loss: 0.5712 - acc: 0.7052 - val_loss: 0.5918 - val_acc: 0.6623\n",
            "Epoch 89/100\n",
            "20/20 [==============================] - 0s 2ms/step - loss: 0.5716 - acc: 0.7280 - val_loss: 0.6374 - val_acc: 0.6688\n",
            "Epoch 90/100\n",
            "20/20 [==============================] - 0s 2ms/step - loss: 0.5505 - acc: 0.7492 - val_loss: 0.5503 - val_acc: 0.7013\n",
            "Epoch 91/100\n",
            "20/20 [==============================] - 0s 2ms/step - loss: 0.5608 - acc: 0.7476 - val_loss: 0.5502 - val_acc: 0.7078\n",
            "Epoch 92/100\n",
            "20/20 [==============================] - 0s 3ms/step - loss: 0.5511 - acc: 0.7443 - val_loss: 0.5516 - val_acc: 0.6753\n",
            "Epoch 93/100\n",
            "20/20 [==============================] - 0s 3ms/step - loss: 0.5755 - acc: 0.7134 - val_loss: 0.7686 - val_acc: 0.6234\n",
            "Epoch 94/100\n",
            "20/20 [==============================] - 0s 2ms/step - loss: 0.6051 - acc: 0.6987 - val_loss: 0.5595 - val_acc: 0.7013\n",
            "Epoch 95/100\n",
            "20/20 [==============================] - 0s 2ms/step - loss: 0.5503 - acc: 0.7378 - val_loss: 0.5717 - val_acc: 0.6948\n",
            "Epoch 96/100\n",
            "20/20 [==============================] - 0s 2ms/step - loss: 0.5297 - acc: 0.7524 - val_loss: 0.5751 - val_acc: 0.6883\n",
            "Epoch 97/100\n",
            "20/20 [==============================] - 0s 3ms/step - loss: 0.6162 - acc: 0.6873 - val_loss: 0.5646 - val_acc: 0.6818\n",
            "Epoch 98/100\n",
            "20/20 [==============================] - 0s 2ms/step - loss: 0.5328 - acc: 0.7508 - val_loss: 0.5612 - val_acc: 0.6818\n",
            "Epoch 99/100\n",
            "20/20 [==============================] - 0s 3ms/step - loss: 0.6482 - acc: 0.6759 - val_loss: 0.5708 - val_acc: 0.6948\n",
            "Epoch 100/100\n",
            "20/20 [==============================] - 0s 2ms/step - loss: 0.5744 - acc: 0.7231 - val_loss: 0.6038 - val_acc: 0.6818\n"
          ],
          "name": "stdout"
        },
        {
          "output_type": "execute_result",
          "data": {
            "text/plain": [
              "<tensorflow.python.keras.callbacks.History at 0x7fe77ddff110>"
            ]
          },
          "metadata": {
            "tags": []
          },
          "execution_count": 24
        }
      ]
    },
    {
      "cell_type": "code",
      "metadata": {
        "id": "i4_1mSG1fqGL"
      },
      "source": [
        ""
      ],
      "execution_count": null,
      "outputs": []
    }
  ]
}
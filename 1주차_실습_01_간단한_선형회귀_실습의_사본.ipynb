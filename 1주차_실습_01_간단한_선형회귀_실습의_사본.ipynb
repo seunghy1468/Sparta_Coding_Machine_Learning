{
  "nbformat": 4,
  "nbformat_minor": 0,
  "metadata": {
    "colab": {
      "name": "1주차 실습 - 01. 간단한 선형회귀 실습의 사본",
      "provenance": [],
      "collapsed_sections": [],
      "include_colab_link": true
    },
    "kernelspec": {
      "name": "python3",
      "display_name": "Python 3"
    }
  },
  "cells": [
    {
      "cell_type": "markdown",
      "metadata": {
        "id": "view-in-github",
        "colab_type": "text"
      },
      "source": [
        "<a href=\"https://colab.research.google.com/github/seunghy1468/Sparta_Coding_Machine_Learning/blob/main/1%EC%A3%BC%EC%B0%A8_%EC%8B%A4%EC%8A%B5_01_%EA%B0%84%EB%8B%A8%ED%95%9C_%EC%84%A0%ED%98%95%ED%9A%8C%EA%B7%80_%EC%8B%A4%EC%8A%B5%EC%9D%98_%EC%82%AC%EB%B3%B8.ipynb\" target=\"_parent\"><img src=\"https://colab.research.google.com/assets/colab-badge.svg\" alt=\"Open In Colab\"/></a>"
      ]
    },
    {
      "cell_type": "markdown",
      "metadata": {
        "id": "X97SlAsRBrOe"
      },
      "source": [
        "# 초간단 Linear Regression 실습 (TensorFlow)\n",
        "\n",
        "TensorFlow 공식 가이드 문서: https://www.tensorflow.org/guide\n",
        "\n",
        "Keras 공식 가이드 문서: https://www.tensorflow.org/guide/keras/sequential_model\n",
        "\n",
        "현재 TensorFlow 는 아래 방식으로 구현하는 것을 권장하고 있지 않습니다. 강의에서는 선형 회귀의 이해를 돕기위해 아래의 코드를 사용했지만 TensorFlow에서는 keras 사용하도록 권장하고 있고 우리 강의에서도 **최신 트렌드에 맞게 keras를 사용**할 예정입니다!"
      ]
    },
    {
      "cell_type": "code",
      "metadata": {
        "id": "FABQeusq6k05"
      },
      "source": [
        "# tensorflow: 기본 머신러닝 api\n",
        "# keras: tensorflow의 상위호환\n",
        "\n",
        "import tensorflow as tf\n",
        "\n",
        "# tensorflow v1을 사용할 것이다.\n",
        "# v2는 이렇게 구현할 수 없기 때문에\n",
        "tf.compat.v1.disable_eager_execution()\n",
        "\n",
        "# 1,1을 넣으면 10, 2,2를 넣으면 20, 3,3을 넣으면 30 ....\n",
        "x_data = [[1, 1], [2, 2], [3, 3]]\n",
        "y_data = [[10], [20], [30]]\n",
        "\n",
        "# 데이터를 넣어줄 공간: placeholder\n",
        "# shape None: 배치size, 2: 2개의 값\n",
        "X = tf.compat.v1.placeholder(tf.float32, shape=[None, 2])\n",
        "Y = tf.compat.v1.placeholder(tf.float32, shape=[None, 1])\n",
        "\n",
        "# random하게 initialization 한다.(경사하강법이용, 점이 랜덤하게 나오므로)\n",
        "W = tf.Variable(tf.random.normal(shape=(2, 1)), name='W')\n",
        "b = tf.Variable(tf.random.normal(shape=(1,)), name='b')"
      ],
      "execution_count": 1,
      "outputs": []
    },
    {
      "cell_type": "code",
      "metadata": {
        "id": "6CjakDv2CB4D"
      },
      "source": [
        "# 가설: linear regression\n",
        "# matmul: X, W를 곱해준다\n",
        "hypothesis = tf.matmul(X, W) + b\n",
        "\n",
        "# MSE: 가설에서 정답 값 뺀다. 이후 루트 씌우고 제곱한다. (평균을 냄)\n",
        "cost = tf.reduce_mean(tf.square(hypothesis - Y))\n",
        "\n",
        "# learning_rate: 0.01step씩 간다, cost를 최소화하는 방향으로!\n",
        "optimizer = tf.compat.v1.train.GradientDescentOptimizer(learning_rate=0.01).minimize(cost)"
      ],
      "execution_count": 2,
      "outputs": []
    },
    {
      "cell_type": "code",
      "metadata": {
        "colab": {
          "base_uri": "https://localhost:8080/"
        },
        "id": "blnlq78UFEiW",
        "outputId": "05bbd481-0013-4e36-9acb-144293b8f23b"
      },
      "source": [
        "# session이란?\n",
        "# tensorflow에서 사용하는 모든 변수들을 저장하고있는 저장소\n",
        "\n",
        "# 모든 변수들을 초기화\n",
        "with tf.compat.v1.Session() as sess:\n",
        "  sess.run(tf.compat.v1.global_variables_initializer())\n",
        "\n",
        "# 50번동안 반복학습\n",
        "  for step in range(50):\n",
        "    # sess.run: cost 계산한다. , feed_dict: dataset을 넣어주는 것, X,Y: placeholder\n",
        "    c, W_, b_, _ = sess.run([cost, W, b, optimizer], feed_dict={X: x_data, Y: y_data})\n",
        "    # step에따라 cost를 계산한다. (작을수록 좋은 것)\n",
        "    print('Step: %2d\\t loss: %.2f\\t' % (step, c))\n",
        "\n",
        "# 가설에 4,4를 넣었을 때, 어떻게 될까요?\n",
        "  print(sess.run(hypothesis, feed_dict={X: [[4, 4]]}))"
      ],
      "execution_count": 3,
      "outputs": [
        {
          "output_type": "stream",
          "text": [
            "Step:  0\t loss: 488.43\t\n",
            "Step:  1\t loss: 309.51\t\n",
            "Step:  2\t loss: 196.16\t\n",
            "Step:  3\t loss: 124.35\t\n",
            "Step:  4\t loss: 78.86\t\n",
            "Step:  5\t loss: 50.03\t\n",
            "Step:  6\t loss: 31.77\t\n",
            "Step:  7\t loss: 20.20\t\n",
            "Step:  8\t loss: 12.88\t\n",
            "Step:  9\t loss: 8.23\t\n",
            "Step: 10\t loss: 5.29\t\n",
            "Step: 11\t loss: 3.42\t\n",
            "Step: 12\t loss: 2.24\t\n",
            "Step: 13\t loss: 1.49\t\n",
            "Step: 14\t loss: 1.02\t\n",
            "Step: 15\t loss: 0.72\t\n",
            "Step: 16\t loss: 0.53\t\n",
            "Step: 17\t loss: 0.40\t\n",
            "Step: 18\t loss: 0.33\t\n",
            "Step: 19\t loss: 0.28\t\n",
            "Step: 20\t loss: 0.25\t\n",
            "Step: 21\t loss: 0.23\t\n",
            "Step: 22\t loss: 0.21\t\n",
            "Step: 23\t loss: 0.20\t\n",
            "Step: 24\t loss: 0.20\t\n",
            "Step: 25\t loss: 0.19\t\n",
            "Step: 26\t loss: 0.19\t\n",
            "Step: 27\t loss: 0.19\t\n",
            "Step: 28\t loss: 0.19\t\n",
            "Step: 29\t loss: 0.19\t\n",
            "Step: 30\t loss: 0.18\t\n",
            "Step: 31\t loss: 0.18\t\n",
            "Step: 32\t loss: 0.18\t\n",
            "Step: 33\t loss: 0.18\t\n",
            "Step: 34\t loss: 0.18\t\n",
            "Step: 35\t loss: 0.18\t\n",
            "Step: 36\t loss: 0.18\t\n",
            "Step: 37\t loss: 0.18\t\n",
            "Step: 38\t loss: 0.18\t\n",
            "Step: 39\t loss: 0.17\t\n",
            "Step: 40\t loss: 0.17\t\n",
            "Step: 41\t loss: 0.17\t\n",
            "Step: 42\t loss: 0.17\t\n",
            "Step: 43\t loss: 0.17\t\n",
            "Step: 44\t loss: 0.17\t\n",
            "Step: 45\t loss: 0.17\t\n",
            "Step: 46\t loss: 0.17\t\n",
            "Step: 47\t loss: 0.17\t\n",
            "Step: 48\t loss: 0.17\t\n",
            "Step: 49\t loss: 0.17\t\n",
            "[[39.205967]]\n"
          ],
          "name": "stdout"
        }
      ]
    },
    {
      "cell_type": "markdown",
      "metadata": {
        "id": "knqMJmBJI-zd"
      },
      "source": [
        "# 초초초간단 Linear Regression 실습 (Keras)"
      ]
    },
    {
      "cell_type": "code",
      "metadata": {
        "colab": {
          "base_uri": "https://localhost:8080/"
        },
        "id": "dvD_mxONFiCy",
        "outputId": "f21afec1-b95a-4bff-b7e0-88fc98772360"
      },
      "source": [
        "# keras 사용\n",
        "import numpy as np\n",
        "from tensorflow.keras.models import Sequential\n",
        "from tensorflow.keras.layers import Dense\n",
        "from tensorflow.keras.optimizers import Adam, SGD\n",
        "\n",
        "# keras는 np.array를 입력으로 받는다\n",
        "x_data = np.array([[1], [2], [3]])\n",
        "y_data = np.array([[10], [20], [30]])\n",
        "\n",
        "# 순차적으로 model을 쌓아나갈 수 있는 모습으로 만듦\n",
        "# 선형회귀에서는 layer가 1: dense(1)\n",
        "model = Sequential([\n",
        "  Dense(1)\n",
        "])\n",
        "\n",
        "# MSE 수식을 안써도 됨, learning_rate: 0.1\n",
        "model.compile(loss='mean_squared_error', optimizer=SGD(lr=0.1))\n",
        "\n",
        "# model.fit: 가설에 정답 값을 맞춘다!\n",
        "# machine learning에서 많이 사용함\n",
        "# epochs: 몇 번 반복할 것 인지\n",
        "model.fit(x_data, y_data, epochs=100) # epochs 복수형으로 쓰기!"
      ],
      "execution_count": 4,
      "outputs": [
        {
          "output_type": "stream",
          "text": [
            "/usr/local/lib/python3.7/dist-packages/tensorflow/python/keras/optimizer_v2/optimizer_v2.py:375: UserWarning: The `lr` argument is deprecated, use `learning_rate` instead.\n",
            "  \"The `lr` argument is deprecated, use `learning_rate` instead.\")\n"
          ],
          "name": "stderr"
        },
        {
          "output_type": "stream",
          "text": [
            "Train on 3 samples\n",
            "Epoch 1/100\n",
            "3/3 [==============================] - 0s 48ms/sample - loss: 563.8083\n",
            "Epoch 2/100\n",
            "3/3 [==============================] - 0s 2ms/sample - loss: 8.9493\n",
            "Epoch 3/100\n",
            "3/3 [==============================] - 0s 995us/sample - loss: 2.2163\n",
            "Epoch 4/100\n",
            "3/3 [==============================] - 0s 998us/sample - loss: 2.0356\n",
            "Epoch 5/100\n",
            "3/3 [==============================] - 0s 899us/sample - loss: 1.9380\n",
            "Epoch 6/100\n",
            "3/3 [==============================] - 0s 910us/sample - loss: 1.8460\n",
            "Epoch 7/100\n",
            "3/3 [==============================] - 0s 908us/sample - loss: 1.7583\n",
            "Epoch 8/100\n",
            "3/3 [==============================] - 0s 949us/sample - loss: 1.6748\n",
            "Epoch 9/100\n",
            "3/3 [==============================] - 0s 875us/sample - loss: 1.5952\n",
            "Epoch 10/100\n",
            "3/3 [==============================] - 0s 877us/sample - loss: 1.5194\n",
            "Epoch 11/100\n",
            "3/3 [==============================] - 0s 1ms/sample - loss: 1.4473\n",
            "Epoch 12/100\n",
            "3/3 [==============================] - 0s 852us/sample - loss: 1.3785\n",
            "Epoch 13/100\n",
            "3/3 [==============================] - 0s 836us/sample - loss: 1.3130\n",
            "Epoch 14/100\n",
            "3/3 [==============================] - 0s 865us/sample - loss: 1.2507\n",
            "Epoch 15/100\n",
            "3/3 [==============================] - 0s 872us/sample - loss: 1.1913\n",
            "Epoch 16/100\n",
            "3/3 [==============================] - 0s 908us/sample - loss: 1.1347\n",
            "Epoch 17/100\n",
            "3/3 [==============================] - 0s 913us/sample - loss: 1.0808\n",
            "Epoch 18/100\n",
            "3/3 [==============================] - 0s 889us/sample - loss: 1.0294\n",
            "Epoch 19/100\n",
            "3/3 [==============================] - 0s 905us/sample - loss: 0.9805\n",
            "Epoch 20/100\n",
            "3/3 [==============================] - 0s 900us/sample - loss: 0.9340\n",
            "Epoch 21/100\n",
            "3/3 [==============================] - 0s 883us/sample - loss: 0.8896\n",
            "Epoch 22/100\n",
            "3/3 [==============================] - 0s 874us/sample - loss: 0.8473\n",
            "Epoch 23/100\n",
            "3/3 [==============================] - 0s 890us/sample - loss: 0.8071\n",
            "Epoch 24/100\n",
            "3/3 [==============================] - 0s 930us/sample - loss: 0.7688\n",
            "Epoch 25/100\n",
            "3/3 [==============================] - 0s 950us/sample - loss: 0.7322\n",
            "Epoch 26/100\n",
            "3/3 [==============================] - 0s 920us/sample - loss: 0.6975\n",
            "Epoch 27/100\n",
            "3/3 [==============================] - 0s 900us/sample - loss: 0.6643\n",
            "Epoch 28/100\n",
            "3/3 [==============================] - 0s 937us/sample - loss: 0.6328\n",
            "Epoch 29/100\n",
            "3/3 [==============================] - 0s 932us/sample - loss: 0.6027\n",
            "Epoch 30/100\n",
            "3/3 [==============================] - 0s 1ms/sample - loss: 0.5741\n",
            "Epoch 31/100\n",
            "3/3 [==============================] - 0s 953us/sample - loss: 0.5468\n",
            "Epoch 32/100\n",
            "3/3 [==============================] - 0s 929us/sample - loss: 0.5208\n",
            "Epoch 33/100\n",
            "3/3 [==============================] - 0s 1ms/sample - loss: 0.4961\n",
            "Epoch 34/100\n",
            "3/3 [==============================] - 0s 974us/sample - loss: 0.4725\n",
            "Epoch 35/100\n",
            "3/3 [==============================] - 0s 973us/sample - loss: 0.4501\n",
            "Epoch 36/100\n",
            "3/3 [==============================] - 0s 984us/sample - loss: 0.4287\n",
            "Epoch 37/100\n",
            "3/3 [==============================] - 0s 981us/sample - loss: 0.4083\n",
            "Epoch 38/100\n",
            "3/3 [==============================] - 0s 1ms/sample - loss: 0.3889\n",
            "Epoch 39/100\n",
            "3/3 [==============================] - 0s 940us/sample - loss: 0.3705\n",
            "Epoch 40/100\n",
            "3/3 [==============================] - 0s 951us/sample - loss: 0.3529\n",
            "Epoch 41/100\n",
            "3/3 [==============================] - 0s 943us/sample - loss: 0.3361\n",
            "Epoch 42/100\n",
            "3/3 [==============================] - 0s 997us/sample - loss: 0.3201\n",
            "Epoch 43/100\n",
            "3/3 [==============================] - 0s 1ms/sample - loss: 0.3049\n",
            "Epoch 44/100\n",
            "3/3 [==============================] - 0s 984us/sample - loss: 0.2905\n",
            "Epoch 45/100\n",
            "3/3 [==============================] - 0s 1ms/sample - loss: 0.2767\n",
            "Epoch 46/100\n",
            "3/3 [==============================] - 0s 966us/sample - loss: 0.2635\n",
            "Epoch 47/100\n",
            "3/3 [==============================] - 0s 1ms/sample - loss: 0.2510\n",
            "Epoch 48/100\n",
            "3/3 [==============================] - 0s 3ms/sample - loss: 0.2391\n",
            "Epoch 49/100\n",
            "3/3 [==============================] - 0s 1ms/sample - loss: 0.2277\n",
            "Epoch 50/100\n",
            "3/3 [==============================] - 0s 1ms/sample - loss: 0.2169\n",
            "Epoch 51/100\n",
            "3/3 [==============================] - 0s 1ms/sample - loss: 0.2066\n",
            "Epoch 52/100\n",
            "3/3 [==============================] - 0s 946us/sample - loss: 0.1968\n",
            "Epoch 53/100\n",
            "3/3 [==============================] - 0s 958us/sample - loss: 0.1874\n",
            "Epoch 54/100\n",
            "3/3 [==============================] - 0s 943us/sample - loss: 0.1785\n",
            "Epoch 55/100\n",
            "3/3 [==============================] - 0s 952us/sample - loss: 0.1701\n",
            "Epoch 56/100\n",
            "3/3 [==============================] - 0s 930us/sample - loss: 0.1620\n",
            "Epoch 57/100\n",
            "3/3 [==============================] - 0s 970us/sample - loss: 0.1543\n",
            "Epoch 58/100\n",
            "3/3 [==============================] - 0s 1ms/sample - loss: 0.1470\n",
            "Epoch 59/100\n",
            "3/3 [==============================] - 0s 1ms/sample - loss: 0.1400\n",
            "Epoch 60/100\n",
            "3/3 [==============================] - 0s 1ms/sample - loss: 0.1333\n",
            "Epoch 61/100\n",
            "3/3 [==============================] - 0s 991us/sample - loss: 0.1270\n",
            "Epoch 62/100\n",
            "3/3 [==============================] - 0s 990us/sample - loss: 0.1210\n",
            "Epoch 63/100\n",
            "3/3 [==============================] - 0s 951us/sample - loss: 0.1152\n",
            "Epoch 64/100\n",
            "3/3 [==============================] - 0s 956us/sample - loss: 0.1097\n",
            "Epoch 65/100\n",
            "3/3 [==============================] - 0s 958us/sample - loss: 0.1045\n",
            "Epoch 66/100\n",
            "3/3 [==============================] - 0s 928us/sample - loss: 0.0996\n",
            "Epoch 67/100\n",
            "3/3 [==============================] - 0s 916us/sample - loss: 0.0948\n",
            "Epoch 68/100\n",
            "3/3 [==============================] - 0s 923us/sample - loss: 0.0903\n",
            "Epoch 69/100\n",
            "3/3 [==============================] - 0s 923us/sample - loss: 0.0860\n",
            "Epoch 70/100\n",
            "3/3 [==============================] - 0s 928us/sample - loss: 0.0820\n",
            "Epoch 71/100\n",
            "3/3 [==============================] - 0s 945us/sample - loss: 0.0781\n",
            "Epoch 72/100\n",
            "3/3 [==============================] - 0s 952us/sample - loss: 0.0744\n",
            "Epoch 73/100\n",
            "3/3 [==============================] - 0s 909us/sample - loss: 0.0708\n",
            "Epoch 74/100\n",
            "3/3 [==============================] - 0s 916us/sample - loss: 0.0675\n",
            "Epoch 75/100\n",
            "3/3 [==============================] - 0s 930us/sample - loss: 0.0643\n",
            "Epoch 76/100\n",
            "3/3 [==============================] - 0s 942us/sample - loss: 0.0612\n",
            "Epoch 77/100\n",
            "3/3 [==============================] - 0s 943us/sample - loss: 0.0583\n",
            "Epoch 78/100\n",
            "3/3 [==============================] - 0s 944us/sample - loss: 0.0555\n",
            "Epoch 79/100\n",
            "3/3 [==============================] - 0s 1ms/sample - loss: 0.0529\n",
            "Epoch 80/100\n",
            "3/3 [==============================] - 0s 2ms/sample - loss: 0.0504\n",
            "Epoch 81/100\n",
            "3/3 [==============================] - 0s 979us/sample - loss: 0.0480\n",
            "Epoch 82/100\n",
            "3/3 [==============================] - 0s 959us/sample - loss: 0.0457\n",
            "Epoch 83/100\n",
            "3/3 [==============================] - 0s 976us/sample - loss: 0.0435\n",
            "Epoch 84/100\n",
            "3/3 [==============================] - 0s 953us/sample - loss: 0.0415\n",
            "Epoch 85/100\n",
            "3/3 [==============================] - 0s 930us/sample - loss: 0.0395\n",
            "Epoch 86/100\n",
            "3/3 [==============================] - 0s 956us/sample - loss: 0.0376\n",
            "Epoch 87/100\n",
            "3/3 [==============================] - 0s 962us/sample - loss: 0.0358\n",
            "Epoch 88/100\n",
            "3/3 [==============================] - 0s 24ms/sample - loss: 0.0341\n",
            "Epoch 89/100\n",
            "3/3 [==============================] - 0s 1ms/sample - loss: 0.0325\n",
            "Epoch 90/100\n",
            "3/3 [==============================] - 0s 1ms/sample - loss: 0.0310\n",
            "Epoch 91/100\n",
            "3/3 [==============================] - 0s 1ms/sample - loss: 0.0295\n",
            "Epoch 92/100\n",
            "3/3 [==============================] - 0s 1ms/sample - loss: 0.0281\n",
            "Epoch 93/100\n",
            "3/3 [==============================] - 0s 1ms/sample - loss: 0.0268\n",
            "Epoch 94/100\n",
            "3/3 [==============================] - 0s 1ms/sample - loss: 0.0255\n",
            "Epoch 95/100\n",
            "3/3 [==============================] - 0s 2ms/sample - loss: 0.0243\n",
            "Epoch 96/100\n",
            "3/3 [==============================] - 0s 1ms/sample - loss: 0.0231\n",
            "Epoch 97/100\n",
            "3/3 [==============================] - 0s 2ms/sample - loss: 0.0220\n",
            "Epoch 98/100\n",
            "3/3 [==============================] - 0s 1ms/sample - loss: 0.0210\n",
            "Epoch 99/100\n",
            "3/3 [==============================] - 0s 1ms/sample - loss: 0.0200\n",
            "Epoch 100/100\n",
            "3/3 [==============================] - 0s 1ms/sample - loss: 0.0190\n"
          ],
          "name": "stdout"
        },
        {
          "output_type": "execute_result",
          "data": {
            "text/plain": [
              "<tensorflow.python.keras.callbacks.History at 0x7fd64c148350>"
            ]
          },
          "metadata": {
            "tags": []
          },
          "execution_count": 4
        }
      ]
    },
    {
      "cell_type": "markdown",
      "metadata": {
        "id": "tfdDs3RITmpd"
      },
      "source": [
        "## 테스트 데이터 예측하기"
      ]
    },
    {
      "cell_type": "code",
      "metadata": {
        "colab": {
          "base_uri": "https://localhost:8080/"
        },
        "id": "Ci3Hu3-eJse-",
        "outputId": "62189c0b-3668-4a7f-fb57-532083319adf"
      },
      "source": [
        "# 우리가 예측하고싶은 값 입력\n",
        "y_pred = model.predict([[5]])\n",
        "\n",
        "print(y_pred)"
      ],
      "execution_count": 5,
      "outputs": [
        {
          "output_type": "stream",
          "text": [
            "[[49.573593]]\n"
          ],
          "name": "stdout"
        },
        {
          "output_type": "stream",
          "text": [
            "/usr/local/lib/python3.7/dist-packages/tensorflow/python/keras/engine/training.py:2426: UserWarning: `Model.state_updates` will be removed in a future version. This property should not be used in TensorFlow 2.0, as `updates` are applied automatically.\n",
            "  warnings.warn('`Model.state_updates` will be removed in a future version. '\n"
          ],
          "name": "stderr"
        }
      ]
    },
    {
      "cell_type": "code",
      "metadata": {
        "id": "g3hH1c-kmhSz"
      },
      "source": [
        ""
      ],
      "execution_count": null,
      "outputs": []
    }
  ]
}
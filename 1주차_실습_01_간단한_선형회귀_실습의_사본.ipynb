{
  "nbformat": 4,
  "nbformat_minor": 0,
  "metadata": {
    "colab": {
      "name": "1주차 실습 - 01. 간단한 선형회귀 실습의 사본",
      "provenance": [],
      "collapsed_sections": [],
      "include_colab_link": true
    },
    "kernelspec": {
      "name": "python3",
      "display_name": "Python 3"
    }
  },
  "cells": [
    {
      "cell_type": "markdown",
      "metadata": {
        "id": "view-in-github",
        "colab_type": "text"
      },
      "source": [
        "<a href=\"https://colab.research.google.com/github/seunghy1468/Sparta_Coding_Machine_Learning/blob/main/1%EC%A3%BC%EC%B0%A8_%EC%8B%A4%EC%8A%B5_01_%EA%B0%84%EB%8B%A8%ED%95%9C_%EC%84%A0%ED%98%95%ED%9A%8C%EA%B7%80_%EC%8B%A4%EC%8A%B5%EC%9D%98_%EC%82%AC%EB%B3%B8.ipynb\" target=\"_parent\"><img src=\"https://colab.research.google.com/assets/colab-badge.svg\" alt=\"Open In Colab\"/></a>"
      ]
    },
    {
      "cell_type": "markdown",
      "metadata": {
        "id": "X97SlAsRBrOe"
      },
      "source": [
        "# 초간단 Linear Regression 실습 (TensorFlow)\n",
        "\n",
        "TensorFlow 공식 가이드 문서: https://www.tensorflow.org/guide\n",
        "\n",
        "Keras 공식 가이드 문서: https://www.tensorflow.org/guide/keras/sequential_model\n",
        "\n",
        "현재 TensorFlow 는 아래 방식으로 구현하는 것을 권장하고 있지 않습니다. 강의에서는 선형 회귀의 이해를 돕기위해 아래의 코드를 사용했지만 TensorFlow에서는 keras 사용하도록 권장하고 있고 우리 강의에서도 **최신 트렌드에 맞게 keras를 사용**할 예정입니다!"
      ]
    },
    {
      "cell_type": "code",
      "metadata": {
        "id": "FABQeusq6k05"
      },
      "source": [
        "import tensorflow as tf\n",
        "\n",
        "tf.compat.v1.disable_eager_execution()\n",
        "\n",
        "x_data = [[1, 1], [2, 2], [3, 3]]\n",
        "y_data = [[10], [20], [30]]\n",
        "\n",
        "X = tf.compat.v1.placeholder(tf.float32, shape=[None, 2])\n",
        "Y = tf.compat.v1.placeholder(tf.float32, shape=[None, 1])\n",
        "\n",
        "W = tf.Variable(tf.random.normal(shape=(2, 1)), name='W')\n",
        "b = tf.Variable(tf.random.normal(shape=(1,)), name='b')"
      ],
      "execution_count": null,
      "outputs": []
    },
    {
      "cell_type": "code",
      "metadata": {
        "id": "6CjakDv2CB4D"
      },
      "source": [
        "hypothesis = tf.matmul(X, W) + b\n",
        "cost = tf.reduce_mean(tf.square(hypothesis - Y))\n",
        "optimizer = tf.compat.v1.train.GradientDescentOptimizer(learning_rate=0.01).minimize(cost)"
      ],
      "execution_count": null,
      "outputs": []
    },
    {
      "cell_type": "code",
      "metadata": {
        "colab": {
          "base_uri": "https://localhost:8080/"
        },
        "id": "blnlq78UFEiW",
        "outputId": "f4260c61-d819-4ea0-8ad7-cf4e6ea39701"
      },
      "source": [
        "with tf.compat.v1.Session() as sess:\n",
        "  sess.run(tf.compat.v1.global_variables_initializer())\n",
        "\n",
        "  for step in range(50):\n",
        "    c, W_, b_, _ = sess.run([cost, W, b, optimizer], feed_dict={X: x_data, Y: y_data})\n",
        "    print('Step: %2d\\t loss: %.2f\\t' % (step, c))\n",
        "\n",
        "  print(sess.run(hypothesis, feed_dict={X: [[4, 4]]}))"
      ],
      "execution_count": null,
      "outputs": [
        {
          "output_type": "stream",
          "text": [
            "Step:  0\t loss: 558.65\t\n",
            "Step:  1\t loss: 354.16\t\n",
            "Step:  2\t loss: 224.61\t\n",
            "Step:  3\t loss: 142.53\t\n",
            "Step:  4\t loss: 90.53\t\n",
            "Step:  5\t loss: 57.59\t\n",
            "Step:  6\t loss: 36.72\t\n",
            "Step:  7\t loss: 23.49\t\n",
            "Step:  8\t loss: 15.11\t\n",
            "Step:  9\t loss: 9.80\t\n",
            "Step: 10\t loss: 6.44\t\n",
            "Step: 11\t loss: 4.30\t\n",
            "Step: 12\t loss: 2.95\t\n",
            "Step: 13\t loss: 2.09\t\n",
            "Step: 14\t loss: 1.55\t\n",
            "Step: 15\t loss: 1.20\t\n",
            "Step: 16\t loss: 0.98\t\n",
            "Step: 17\t loss: 0.84\t\n",
            "Step: 18\t loss: 0.75\t\n",
            "Step: 19\t loss: 0.69\t\n",
            "Step: 20\t loss: 0.65\t\n",
            "Step: 21\t loss: 0.63\t\n",
            "Step: 22\t loss: 0.61\t\n",
            "Step: 23\t loss: 0.60\t\n",
            "Step: 24\t loss: 0.59\t\n",
            "Step: 25\t loss: 0.58\t\n",
            "Step: 26\t loss: 0.58\t\n",
            "Step: 27\t loss: 0.57\t\n",
            "Step: 28\t loss: 0.57\t\n",
            "Step: 29\t loss: 0.57\t\n",
            "Step: 30\t loss: 0.56\t\n",
            "Step: 31\t loss: 0.56\t\n",
            "Step: 32\t loss: 0.56\t\n",
            "Step: 33\t loss: 0.55\t\n",
            "Step: 34\t loss: 0.55\t\n",
            "Step: 35\t loss: 0.55\t\n",
            "Step: 36\t loss: 0.55\t\n",
            "Step: 37\t loss: 0.54\t\n",
            "Step: 38\t loss: 0.54\t\n",
            "Step: 39\t loss: 0.54\t\n",
            "Step: 40\t loss: 0.53\t\n",
            "Step: 41\t loss: 0.53\t\n",
            "Step: 42\t loss: 0.53\t\n",
            "Step: 43\t loss: 0.53\t\n",
            "Step: 44\t loss: 0.52\t\n",
            "Step: 45\t loss: 0.52\t\n",
            "Step: 46\t loss: 0.52\t\n",
            "Step: 47\t loss: 0.51\t\n",
            "Step: 48\t loss: 0.51\t\n",
            "Step: 49\t loss: 0.51\t\n",
            "[[38.609562]]\n"
          ],
          "name": "stdout"
        }
      ]
    },
    {
      "cell_type": "markdown",
      "metadata": {
        "id": "knqMJmBJI-zd"
      },
      "source": [
        "# 초초초간단 Linear Regression 실습 (Keras)"
      ]
    },
    {
      "cell_type": "code",
      "metadata": {
        "colab": {
          "base_uri": "https://localhost:8080/"
        },
        "id": "dvD_mxONFiCy",
        "outputId": "105e458a-24dd-4a0a-961c-3db69762b32c"
      },
      "source": [
        "import numpy as np\n",
        "from tensorflow.keras.models import Sequential\n",
        "from tensorflow.keras.layers import Dense\n",
        "from tensorflow.keras.optimizers import Adam, SGD\n",
        "\n",
        "x_data = np.array([[1], [2], [3]])\n",
        "y_data = np.array([[10], [20], [30]])\n",
        "\n",
        "model = Sequential([\n",
        "  Dense(1)\n",
        "])\n",
        "\n",
        "model.compile(loss='mean_squared_error', optimizer=SGD(lr=0.1))\n",
        "\n",
        "model.fit(x_data, y_data, epochs=100) # epochs 복수형으로 쓰기!"
      ],
      "execution_count": null,
      "outputs": [
        {
          "output_type": "stream",
          "text": [
            "Train on 3 samples\n",
            "Epoch 1/100\n",
            "3/3 [==============================] - 0s 36ms/sample - loss: 508.8659\n",
            "Epoch 2/100\n",
            "3/3 [==============================] - 0s 2ms/sample - loss: 8.0772\n",
            "Epoch 3/100\n",
            "3/3 [==============================] - 0s 2ms/sample - loss: 2.0003\n",
            "Epoch 4/100\n",
            "3/3 [==============================] - 0s 2ms/sample - loss: 1.8373\n",
            "Epoch 5/100\n",
            "3/3 [==============================] - 0s 1ms/sample - loss: 1.7492\n",
            "Epoch 6/100\n",
            "3/3 [==============================] - 0s 748us/sample - loss: 1.6661\n",
            "Epoch 7/100\n",
            "3/3 [==============================] - 0s 847us/sample - loss: 1.5869\n",
            "Epoch 8/100\n",
            "3/3 [==============================] - 0s 1ms/sample - loss: 1.5116\n",
            "Epoch 9/100\n",
            "3/3 [==============================] - 0s 751us/sample - loss: 1.4398\n",
            "Epoch 10/100\n",
            "3/3 [==============================] - 0s 749us/sample - loss: 1.3714\n",
            "Epoch 11/100\n",
            "3/3 [==============================] - 0s 680us/sample - loss: 1.3062\n",
            "Epoch 12/100\n",
            "3/3 [==============================] - 0s 677us/sample - loss: 1.2442\n",
            "Epoch 13/100\n",
            "3/3 [==============================] - 0s 697us/sample - loss: 1.1851\n",
            "Epoch 14/100\n",
            "3/3 [==============================] - 0s 777us/sample - loss: 1.1288\n",
            "Epoch 15/100\n",
            "3/3 [==============================] - 0s 772us/sample - loss: 1.0752\n",
            "Epoch 16/100\n",
            "3/3 [==============================] - 0s 682us/sample - loss: 1.0241\n",
            "Epoch 17/100\n",
            "3/3 [==============================] - 0s 836us/sample - loss: 0.9755\n",
            "Epoch 18/100\n",
            "3/3 [==============================] - 0s 680us/sample - loss: 0.9291\n",
            "Epoch 19/100\n",
            "3/3 [==============================] - 0s 894us/sample - loss: 0.8850\n",
            "Epoch 20/100\n",
            "3/3 [==============================] - 0s 746us/sample - loss: 0.8429\n",
            "Epoch 21/100\n",
            "3/3 [==============================] - 0s 690us/sample - loss: 0.8029\n",
            "Epoch 22/100\n",
            "3/3 [==============================] - 0s 1ms/sample - loss: 0.7648\n",
            "Epoch 23/100\n",
            "3/3 [==============================] - 0s 739us/sample - loss: 0.7284\n",
            "Epoch 24/100\n",
            "3/3 [==============================] - 0s 1ms/sample - loss: 0.6938\n",
            "Epoch 25/100\n",
            "3/3 [==============================] - 0s 686us/sample - loss: 0.6609\n",
            "Epoch 26/100\n",
            "3/3 [==============================] - 0s 749us/sample - loss: 0.6295\n",
            "Epoch 27/100\n",
            "3/3 [==============================] - 0s 720us/sample - loss: 0.5996\n",
            "Epoch 28/100\n",
            "3/3 [==============================] - 0s 801us/sample - loss: 0.5711\n",
            "Epoch 29/100\n",
            "3/3 [==============================] - 0s 894us/sample - loss: 0.5440\n",
            "Epoch 30/100\n",
            "3/3 [==============================] - 0s 773us/sample - loss: 0.5181\n",
            "Epoch 31/100\n",
            "3/3 [==============================] - 0s 698us/sample - loss: 0.4935\n",
            "Epoch 32/100\n",
            "3/3 [==============================] - 0s 1ms/sample - loss: 0.4701\n",
            "Epoch 33/100\n",
            "3/3 [==============================] - 0s 762us/sample - loss: 0.4478\n",
            "Epoch 34/100\n",
            "3/3 [==============================] - 0s 769us/sample - loss: 0.4265\n",
            "Epoch 35/100\n",
            "3/3 [==============================] - 0s 712us/sample - loss: 0.4062\n",
            "Epoch 36/100\n",
            "3/3 [==============================] - 0s 1ms/sample - loss: 0.3869\n",
            "Epoch 37/100\n",
            "3/3 [==============================] - 0s 717us/sample - loss: 0.3686\n",
            "Epoch 38/100\n",
            "3/3 [==============================] - 0s 784us/sample - loss: 0.3510\n",
            "Epoch 39/100\n",
            "3/3 [==============================] - 0s 837us/sample - loss: 0.3344\n",
            "Epoch 40/100\n",
            "3/3 [==============================] - 0s 841us/sample - loss: 0.3185\n",
            "Epoch 41/100\n",
            "3/3 [==============================] - 0s 901us/sample - loss: 0.3034\n",
            "Epoch 42/100\n",
            "3/3 [==============================] - 0s 854us/sample - loss: 0.2889\n",
            "Epoch 43/100\n",
            "3/3 [==============================] - 0s 2ms/sample - loss: 0.2752\n",
            "Epoch 44/100\n",
            "3/3 [==============================] - 0s 966us/sample - loss: 0.2622\n",
            "Epoch 45/100\n",
            "3/3 [==============================] - 0s 2ms/sample - loss: 0.2497\n",
            "Epoch 46/100\n",
            "3/3 [==============================] - 0s 1ms/sample - loss: 0.2378\n",
            "Epoch 47/100\n",
            "3/3 [==============================] - 0s 988us/sample - loss: 0.2265\n",
            "Epoch 48/100\n",
            "3/3 [==============================] - 0s 875us/sample - loss: 0.2158\n",
            "Epoch 49/100\n",
            "3/3 [==============================] - 0s 910us/sample - loss: 0.2055\n",
            "Epoch 50/100\n",
            "3/3 [==============================] - 0s 876us/sample - loss: 0.1958\n",
            "Epoch 51/100\n",
            "3/3 [==============================] - 0s 1ms/sample - loss: 0.1865\n",
            "Epoch 52/100\n",
            "3/3 [==============================] - 0s 901us/sample - loss: 0.1776\n",
            "Epoch 53/100\n",
            "3/3 [==============================] - 0s 1ms/sample - loss: 0.1692\n",
            "Epoch 54/100\n",
            "3/3 [==============================] - 0s 976us/sample - loss: 0.1611\n",
            "Epoch 55/100\n",
            "3/3 [==============================] - 0s 989us/sample - loss: 0.1535\n",
            "Epoch 56/100\n",
            "3/3 [==============================] - 0s 1ms/sample - loss: 0.1462\n",
            "Epoch 57/100\n",
            "3/3 [==============================] - 0s 914us/sample - loss: 0.1392\n",
            "Epoch 58/100\n",
            "3/3 [==============================] - 0s 1ms/sample - loss: 0.1326\n",
            "Epoch 59/100\n",
            "3/3 [==============================] - 0s 1ms/sample - loss: 0.1263\n",
            "Epoch 60/100\n",
            "3/3 [==============================] - 0s 1ms/sample - loss: 0.1203\n",
            "Epoch 61/100\n",
            "3/3 [==============================] - 0s 2ms/sample - loss: 0.1146\n",
            "Epoch 62/100\n",
            "3/3 [==============================] - 0s 860us/sample - loss: 0.1092\n",
            "Epoch 63/100\n",
            "3/3 [==============================] - 0s 749us/sample - loss: 0.1040\n",
            "Epoch 64/100\n",
            "3/3 [==============================] - 0s 1ms/sample - loss: 0.0990\n",
            "Epoch 65/100\n",
            "3/3 [==============================] - 0s 680us/sample - loss: 0.0943\n",
            "Epoch 66/100\n",
            "3/3 [==============================] - 0s 718us/sample - loss: 0.0899\n",
            "Epoch 67/100\n",
            "3/3 [==============================] - 0s 958us/sample - loss: 0.0856\n",
            "Epoch 68/100\n",
            "3/3 [==============================] - 0s 696us/sample - loss: 0.0815\n",
            "Epoch 69/100\n",
            "3/3 [==============================] - 0s 3ms/sample - loss: 0.0777\n",
            "Epoch 70/100\n",
            "3/3 [==============================] - 0s 729us/sample - loss: 0.0740\n",
            "Epoch 71/100\n",
            "3/3 [==============================] - 0s 742us/sample - loss: 0.0705\n",
            "Epoch 72/100\n",
            "3/3 [==============================] - 0s 944us/sample - loss: 0.0671\n",
            "Epoch 73/100\n",
            "3/3 [==============================] - 0s 630us/sample - loss: 0.0639\n",
            "Epoch 74/100\n",
            "3/3 [==============================] - 0s 703us/sample - loss: 0.0609\n",
            "Epoch 75/100\n",
            "3/3 [==============================] - 0s 881us/sample - loss: 0.0580\n",
            "Epoch 76/100\n",
            "3/3 [==============================] - 0s 710us/sample - loss: 0.0552\n",
            "Epoch 77/100\n",
            "3/3 [==============================] - 0s 960us/sample - loss: 0.0526\n",
            "Epoch 78/100\n",
            "3/3 [==============================] - 0s 589us/sample - loss: 0.0501\n",
            "Epoch 79/100\n",
            "3/3 [==============================] - 0s 798us/sample - loss: 0.0477\n",
            "Epoch 80/100\n",
            "3/3 [==============================] - 0s 737us/sample - loss: 0.0455\n",
            "Epoch 81/100\n",
            "3/3 [==============================] - 0s 758us/sample - loss: 0.0433\n",
            "Epoch 82/100\n",
            "3/3 [==============================] - 0s 621us/sample - loss: 0.0412\n",
            "Epoch 83/100\n",
            "3/3 [==============================] - 0s 698us/sample - loss: 0.0393\n",
            "Epoch 84/100\n",
            "3/3 [==============================] - 0s 698us/sample - loss: 0.0374\n",
            "Epoch 85/100\n",
            "3/3 [==============================] - 0s 757us/sample - loss: 0.0356\n",
            "Epoch 86/100\n",
            "3/3 [==============================] - 0s 586us/sample - loss: 0.0340\n",
            "Epoch 87/100\n",
            "3/3 [==============================] - 0s 702us/sample - loss: 0.0323\n",
            "Epoch 88/100\n",
            "3/3 [==============================] - 0s 678us/sample - loss: 0.0308\n",
            "Epoch 89/100\n",
            "3/3 [==============================] - 0s 3ms/sample - loss: 0.0293\n",
            "Epoch 90/100\n",
            "3/3 [==============================] - 0s 640us/sample - loss: 0.0279\n",
            "Epoch 91/100\n",
            "3/3 [==============================] - 0s 925us/sample - loss: 0.0266\n",
            "Epoch 92/100\n",
            "3/3 [==============================] - 0s 2ms/sample - loss: 0.0254\n",
            "Epoch 93/100\n",
            "3/3 [==============================] - 0s 577us/sample - loss: 0.0242\n",
            "Epoch 94/100\n",
            "3/3 [==============================] - 0s 727us/sample - loss: 0.0230\n",
            "Epoch 95/100\n",
            "3/3 [==============================] - 0s 633us/sample - loss: 0.0219\n",
            "Epoch 96/100\n",
            "3/3 [==============================] - 0s 637us/sample - loss: 0.0209\n",
            "Epoch 97/100\n",
            "3/3 [==============================] - 0s 643us/sample - loss: 0.0199\n",
            "Epoch 98/100\n",
            "3/3 [==============================] - 0s 658us/sample - loss: 0.0189\n",
            "Epoch 99/100\n",
            "3/3 [==============================] - 0s 964us/sample - loss: 0.0180\n",
            "Epoch 100/100\n",
            "3/3 [==============================] - 0s 621us/sample - loss: 0.0172\n"
          ],
          "name": "stdout"
        },
        {
          "output_type": "execute_result",
          "data": {
            "text/plain": [
              "<tensorflow.python.keras.callbacks.History at 0x7f8863ba6c18>"
            ]
          },
          "metadata": {
            "tags": []
          },
          "execution_count": 5
        }
      ]
    },
    {
      "cell_type": "markdown",
      "metadata": {
        "id": "tfdDs3RITmpd"
      },
      "source": [
        "## 테스트 데이터 예측하기"
      ]
    },
    {
      "cell_type": "code",
      "metadata": {
        "colab": {
          "base_uri": "https://localhost:8080/"
        },
        "id": "Ci3Hu3-eJse-",
        "outputId": "e2619f1a-dfef-4338-fbac-db4c8cf1b712"
      },
      "source": [
        "y_pred = model.predict([[5]])\n",
        "\n",
        "print(y_pred)"
      ],
      "execution_count": null,
      "outputs": [
        {
          "output_type": "stream",
          "text": [
            "[[49.594902]]\n"
          ],
          "name": "stdout"
        }
      ]
    },
    {
      "cell_type": "code",
      "metadata": {
        "id": "g3hH1c-kmhSz"
      },
      "source": [
        ""
      ],
      "execution_count": null,
      "outputs": []
    }
  ]
}